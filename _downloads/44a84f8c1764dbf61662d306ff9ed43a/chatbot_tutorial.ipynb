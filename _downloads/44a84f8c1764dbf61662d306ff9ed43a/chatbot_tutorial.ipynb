{
  "cells": [
    {
      "cell_type": "code",
      "source": [
        "!pip install wandb\n",
        "import wandb\n",
        "wandb.login()"
      ],
      "metadata": {
        "colab": {
          "base_uri": "https://localhost:8080/",
          "height": 615
        },
        "id": "oTWPtRDP27AJ",
        "outputId": "d5f03213-2271-4eb8-86d0-ea26c3535edf"
      },
      "execution_count": 1,
      "outputs": [
        {
          "output_type": "stream",
          "name": "stdout",
          "text": [
            "Requirement already satisfied: wandb in /usr/local/lib/python3.12/dist-packages (0.21.4)\n",
            "Requirement already satisfied: click>=8.0.1 in /usr/local/lib/python3.12/dist-packages (from wandb) (8.2.1)\n",
            "Requirement already satisfied: gitpython!=3.1.29,>=1.0.0 in /usr/local/lib/python3.12/dist-packages (from wandb) (3.1.45)\n",
            "Requirement already satisfied: packaging in /usr/local/lib/python3.12/dist-packages (from wandb) (25.0)\n",
            "Requirement already satisfied: platformdirs in /usr/local/lib/python3.12/dist-packages (from wandb) (4.4.0)\n",
            "Requirement already satisfied: protobuf!=4.21.0,!=5.28.0,<7,>=3.19.0 in /usr/local/lib/python3.12/dist-packages (from wandb) (5.29.5)\n",
            "Requirement already satisfied: pydantic<3 in /usr/local/lib/python3.12/dist-packages (from wandb) (2.11.9)\n",
            "Requirement already satisfied: pyyaml in /usr/local/lib/python3.12/dist-packages (from wandb) (6.0.2)\n",
            "Requirement already satisfied: requests<3,>=2.0.0 in /usr/local/lib/python3.12/dist-packages (from wandb) (2.32.4)\n",
            "Requirement already satisfied: sentry-sdk>=2.0.0 in /usr/local/lib/python3.12/dist-packages (from wandb) (2.38.0)\n",
            "Requirement already satisfied: typing-extensions<5,>=4.8 in /usr/local/lib/python3.12/dist-packages (from wandb) (4.15.0)\n",
            "Requirement already satisfied: gitdb<5,>=4.0.1 in /usr/local/lib/python3.12/dist-packages (from gitpython!=3.1.29,>=1.0.0->wandb) (4.0.12)\n",
            "Requirement already satisfied: annotated-types>=0.6.0 in /usr/local/lib/python3.12/dist-packages (from pydantic<3->wandb) (0.7.0)\n",
            "Requirement already satisfied: pydantic-core==2.33.2 in /usr/local/lib/python3.12/dist-packages (from pydantic<3->wandb) (2.33.2)\n",
            "Requirement already satisfied: typing-inspection>=0.4.0 in /usr/local/lib/python3.12/dist-packages (from pydantic<3->wandb) (0.4.1)\n",
            "Requirement already satisfied: charset_normalizer<4,>=2 in /usr/local/lib/python3.12/dist-packages (from requests<3,>=2.0.0->wandb) (3.4.3)\n",
            "Requirement already satisfied: idna<4,>=2.5 in /usr/local/lib/python3.12/dist-packages (from requests<3,>=2.0.0->wandb) (3.10)\n",
            "Requirement already satisfied: urllib3<3,>=1.21.1 in /usr/local/lib/python3.12/dist-packages (from requests<3,>=2.0.0->wandb) (2.5.0)\n",
            "Requirement already satisfied: certifi>=2017.4.17 in /usr/local/lib/python3.12/dist-packages (from requests<3,>=2.0.0->wandb) (2025.8.3)\n",
            "Requirement already satisfied: smmap<6,>=3.0.1 in /usr/local/lib/python3.12/dist-packages (from gitdb<5,>=4.0.1->gitpython!=3.1.29,>=1.0.0->wandb) (5.0.2)\n"
          ]
        },
        {
          "output_type": "stream",
          "name": "stderr",
          "text": [
            "/usr/local/lib/python3.12/dist-packages/notebook/notebookapp.py:191: SyntaxWarning: invalid escape sequence '\\/'\n",
            "  | |_| | '_ \\/ _` / _` |  _/ -_)\n"
          ]
        },
        {
          "output_type": "display_data",
          "data": {
            "text/plain": [
              "<IPython.core.display.Javascript object>"
            ],
            "application/javascript": [
              "\n",
              "        window._wandbApiKey = new Promise((resolve, reject) => {\n",
              "            function loadScript(url) {\n",
              "            return new Promise(function(resolve, reject) {\n",
              "                let newScript = document.createElement(\"script\");\n",
              "                newScript.onerror = reject;\n",
              "                newScript.onload = resolve;\n",
              "                document.body.appendChild(newScript);\n",
              "                newScript.src = url;\n",
              "            });\n",
              "            }\n",
              "            loadScript(\"https://cdn.jsdelivr.net/npm/postmate/build/postmate.min.js\").then(() => {\n",
              "            const iframe = document.createElement('iframe')\n",
              "            iframe.style.cssText = \"width:0;height:0;border:none\"\n",
              "            document.body.appendChild(iframe)\n",
              "            const handshake = new Postmate({\n",
              "                container: iframe,\n",
              "                url: 'https://wandb.ai/authorize'\n",
              "            });\n",
              "            const timeout = setTimeout(() => reject(\"Couldn't auto authenticate\"), 5000)\n",
              "            handshake.then(function(child) {\n",
              "                child.on('authorize', data => {\n",
              "                    clearTimeout(timeout)\n",
              "                    resolve(data)\n",
              "                });\n",
              "            });\n",
              "            })\n",
              "        });\n",
              "    "
            ]
          },
          "metadata": {}
        },
        {
          "output_type": "stream",
          "name": "stderr",
          "text": [
            "\u001b[34m\u001b[1mwandb\u001b[0m: Logging into wandb.ai. (Learn how to deploy a W&B server locally: https://wandb.me/wandb-server)\n",
            "\u001b[34m\u001b[1mwandb\u001b[0m: You can find your API key in your browser here: https://wandb.ai/authorize\n",
            "wandb: Paste an API key from your profile and hit enter:"
          ]
        },
        {
          "name": "stdout",
          "output_type": "stream",
          "text": [
            " ··········\n"
          ]
        },
        {
          "output_type": "stream",
          "name": "stderr",
          "text": [
            "\u001b[34m\u001b[1mwandb\u001b[0m: \u001b[33mWARNING\u001b[0m If you're specifying your api key in code, ensure this code is not shared publicly.\n",
            "\u001b[34m\u001b[1mwandb\u001b[0m: \u001b[33mWARNING\u001b[0m Consider setting the WANDB_API_KEY environment variable, or running `wandb login` from the command line.\n",
            "\u001b[34m\u001b[1mwandb\u001b[0m: No netrc file found, creating one.\n",
            "\u001b[34m\u001b[1mwandb\u001b[0m: Appending key for api.wandb.ai to your netrc file: /root/.netrc\n",
            "\u001b[34m\u001b[1mwandb\u001b[0m: Currently logged in as: \u001b[33mamanupg\u001b[0m (\u001b[33mamanupg-columbia-university\u001b[0m) to \u001b[32mhttps://api.wandb.ai\u001b[0m. Use \u001b[1m`wandb login --relogin`\u001b[0m to force relogin\n"
          ]
        },
        {
          "output_type": "execute_result",
          "data": {
            "text/plain": [
              "True"
            ]
          },
          "metadata": {},
          "execution_count": 1
        }
      ]
    },
    {
      "cell_type": "code",
      "execution_count": 2,
      "metadata": {
        "id": "GfPPVa82jjtK"
      },
      "outputs": [],
      "source": [
        "# For tips on running notebooks in Google Colab, see\n",
        "# https://docs.pytorch.org/tutorials/beginner/colab\n",
        "%matplotlib inline"
      ]
    },
    {
      "cell_type": "markdown",
      "metadata": {
        "id": "S_W7OIDejjtL"
      },
      "source": [
        "Chatbot Tutorial\n",
        "================\n",
        "\n",
        "**Author:** [Matthew Inkawhich](https://github.com/MatthewInkawhich)\n"
      ]
    },
    {
      "cell_type": "markdown",
      "metadata": {
        "id": "MCLhMUo_jjtM"
      },
      "source": [
        "In this tutorial, we explore a fun and interesting use-case of recurrent\n",
        "sequence-to-sequence models. We will train a simple chatbot using movie\n",
        "scripts from the [Cornell Movie-Dialogs\n",
        "Corpus](https://www.cs.cornell.edu/~cristian/Cornell_Movie-Dialogs_Corpus.html).\n",
        "\n",
        "Conversational models are a hot topic in artificial intelligence\n",
        "research. Chatbots can be found in a variety of settings, including\n",
        "customer service applications and online helpdesks. These bots are often\n",
        "powered by retrieval-based models, which output predefined responses to\n",
        "questions of certain forms. In a highly restricted domain like a\n",
        "company's IT helpdesk, these models may be sufficient, however, they are\n",
        "not robust enough for more general use-cases. Teaching a machine to\n",
        "carry out a meaningful conversation with a human in multiple domains is\n",
        "a research question that is far from solved. Recently, the deep learning\n",
        "boom has allowed for powerful generative models like Google's [Neural\n",
        "Conversational Model](https://arxiv.org/abs/1506.05869), which marks a\n",
        "large step towards multi-domain generative conversational models. In\n",
        "this tutorial, we will implement this kind of model in PyTorch.\n",
        "\n",
        "![](https://pytorch.org/tutorials/_static/img/chatbot/bot.png){.align-center}\n",
        "\n",
        "``` {.python}\n",
        "> hello?\n",
        "Bot: hello .\n",
        "> where am I?\n",
        "Bot: you re in a hospital .\n",
        "> who are you?\n",
        "Bot: i m a lawyer .\n",
        "> how are you doing?\n",
        "Bot: i m fine .\n",
        "> are you my friend?\n",
        "Bot: no .\n",
        "> you're under arrest\n",
        "Bot: i m trying to help you !\n",
        "> i'm just kidding\n",
        "Bot: i m sorry .\n",
        "> where are you from?\n",
        "Bot: san francisco .\n",
        "> it's time for me to leave\n",
        "Bot: i know .\n",
        "> goodbye\n",
        "Bot: goodbye .\n",
        "```\n",
        "\n",
        "**Tutorial Highlights**\n",
        "\n",
        "-   Handle loading and preprocessing of [Cornell Movie-Dialogs\n",
        "    Corpus](https://www.cs.cornell.edu/~cristian/Cornell_Movie-Dialogs_Corpus.html)\n",
        "    dataset\n",
        "-   Implement a sequence-to-sequence model with [Luong attention\n",
        "    mechanism(s)](https://arxiv.org/abs/1508.04025)\n",
        "-   Jointly train encoder and decoder models using mini-batches\n",
        "-   Implement greedy-search decoding module\n",
        "-   Interact with trained chatbot\n",
        "\n",
        "**Acknowledgments**\n",
        "\n",
        "This tutorial borrows code from the following sources:\n",
        "\n",
        "1)  Yuan-Kuei Wu's pytorch-chatbot implementation:\n",
        "    <https://github.com/ywk991112/pytorch-chatbot>\n",
        "2)  Sean Robertson's practical-pytorch seq2seq-translation example:\n",
        "    <https://github.com/spro/practical-pytorch/tree/master/seq2seq-translation>\n",
        "3)  FloydHub Cornell Movie Corpus preprocessing code:\n",
        "    <https://github.com/floydhub/textutil-preprocess-cornell-movie-corpus>\n"
      ]
    },
    {
      "cell_type": "markdown",
      "metadata": {
        "id": "PyVsmN-jjjtN"
      },
      "source": [
        "Preparations\n",
        "============\n",
        "\n",
        "To get started,\n",
        "[download](https://zissou.infosci.cornell.edu/convokit/datasets/movie-corpus/movie-corpus.zip)\n",
        "the Movie-Dialogs Corpus zip file.\n"
      ]
    },
    {
      "cell_type": "code",
      "execution_count": 3,
      "metadata": {
        "colab": {
          "base_uri": "https://localhost:8080/"
        },
        "id": "_BSWY8LSjjtN",
        "outputId": "9c32991f-d396-444a-e7f9-29b0ae0ded97"
      },
      "outputs": [
        {
          "output_type": "stream",
          "name": "stdout",
          "text": [
            "Using cuda device\n"
          ]
        }
      ],
      "source": [
        "# and put in a ``data/`` directory under the current directory.\n",
        "#\n",
        "# After that, let’s import some necessities.\n",
        "#\n",
        "\n",
        "import torch\n",
        "from torch.jit import script, trace\n",
        "import torch.nn as nn\n",
        "from torch import optim\n",
        "import torch.nn.functional as F\n",
        "import csv\n",
        "import random\n",
        "import re\n",
        "import os\n",
        "import unicodedata\n",
        "import codecs\n",
        "from io import open\n",
        "import itertools\n",
        "import math\n",
        "import json\n",
        "\n",
        "\n",
        "# If the current `accelerator <https://pytorch.org/docs/stable/torch.html#accelerators>`__ is available,\n",
        "# we will use it. Otherwise, we use the CPU.\n",
        "device = torch.accelerator.current_accelerator().type if torch.accelerator.is_available() else \"cpu\"\n",
        "print(f\"Using {device} device\")"
      ]
    },
    {
      "cell_type": "markdown",
      "metadata": {
        "id": "d8oNNInEjjtO"
      },
      "source": [
        "Load & Preprocess Data\n",
        "======================\n",
        "\n",
        "The next step is to reformat our data file and load the data into\n",
        "structures that we can work with.\n",
        "\n",
        "The [Cornell Movie-Dialogs\n",
        "Corpus](https://www.cs.cornell.edu/~cristian/Cornell_Movie-Dialogs_Corpus.html)\n",
        "is a rich dataset of movie character dialog:\n",
        "\n",
        "-   220,579 conversational exchanges between 10,292 pairs of movie\n",
        "    characters\n",
        "-   9,035 characters from 617 movies\n",
        "-   304,713 total utterances\n",
        "\n",
        "This dataset is large and diverse, and there is a great variation of\n",
        "language formality, time periods, sentiment, etc. Our hope is that this\n",
        "diversity makes our model robust to many forms of inputs and queries.\n",
        "\n",
        "First, we'll take a look at some lines of our datafile to see the\n",
        "original format.\n"
      ]
    },
    {
      "cell_type": "code",
      "execution_count": 11,
      "metadata": {
        "colab": {
          "base_uri": "https://localhost:8080/"
        },
        "id": "sxcBT2xpjjtP",
        "outputId": "8b59cb11-f6ec-48af-b912-5a48cb2552d1"
      },
      "outputs": [
        {
          "output_type": "stream",
          "name": "stdout",
          "text": [
            "b'{\"id\": \"L1045\", \"conversation_id\": \"L1044\", \"text\": \"They do not!\", \"speaker\": \"u0\", \"meta\": {\"movie_id\": \"m0\", \"parsed\": [{\"rt\": 1, \"toks\": [{\"tok\": \"They\", \"tag\": \"PRP\", \"dep\": \"nsubj\", \"up\": 1, \"dn\": []}, {\"tok\": \"do\", \"tag\": \"VBP\", \"dep\": \"ROOT\", \"dn\": [0, 2, 3]}, {\"tok\": \"not\", \"tag\": \"RB\", \"dep\": \"neg\", \"up\": 1, \"dn\": []}, {\"tok\": \"!\", \"tag\": \".\", \"dep\": \"punct\", \"up\": 1, \"dn\": []}]}]}, \"reply-to\": \"L1044\", \"timestamp\": null, \"vectors\": []}\\n'\n",
            "b'{\"id\": \"L1044\", \"conversation_id\": \"L1044\", \"text\": \"They do to!\", \"speaker\": \"u2\", \"meta\": {\"movie_id\": \"m0\", \"parsed\": [{\"rt\": 1, \"toks\": [{\"tok\": \"They\", \"tag\": \"PRP\", \"dep\": \"nsubj\", \"up\": 1, \"dn\": []}, {\"tok\": \"do\", \"tag\": \"VBP\", \"dep\": \"ROOT\", \"dn\": [0, 2, 3]}, {\"tok\": \"to\", \"tag\": \"TO\", \"dep\": \"dobj\", \"up\": 1, \"dn\": []}, {\"tok\": \"!\", \"tag\": \".\", \"dep\": \"punct\", \"up\": 1, \"dn\": []}]}]}, \"reply-to\": null, \"timestamp\": null, \"vectors\": []}\\n'\n",
            "b'{\"id\": \"L985\", \"conversation_id\": \"L984\", \"text\": \"I hope so.\", \"speaker\": \"u0\", \"meta\": {\"movie_id\": \"m0\", \"parsed\": [{\"rt\": 1, \"toks\": [{\"tok\": \"I\", \"tag\": \"PRP\", \"dep\": \"nsubj\", \"up\": 1, \"dn\": []}, {\"tok\": \"hope\", \"tag\": \"VBP\", \"dep\": \"ROOT\", \"dn\": [0, 2, 3]}, {\"tok\": \"so\", \"tag\": \"RB\", \"dep\": \"advmod\", \"up\": 1, \"dn\": []}, {\"tok\": \".\", \"tag\": \".\", \"dep\": \"punct\", \"up\": 1, \"dn\": []}]}]}, \"reply-to\": \"L984\", \"timestamp\": null, \"vectors\": []}\\n'\n",
            "b'{\"id\": \"L984\", \"conversation_id\": \"L984\", \"text\": \"She okay?\", \"speaker\": \"u2\", \"meta\": {\"movie_id\": \"m0\", \"parsed\": [{\"rt\": 1, \"toks\": [{\"tok\": \"She\", \"tag\": \"PRP\", \"dep\": \"nsubj\", \"up\": 1, \"dn\": []}, {\"tok\": \"okay\", \"tag\": \"RB\", \"dep\": \"ROOT\", \"dn\": [0, 2]}, {\"tok\": \"?\", \"tag\": \".\", \"dep\": \"punct\", \"up\": 1, \"dn\": []}]}]}, \"reply-to\": null, \"timestamp\": null, \"vectors\": []}\\n'\n",
            "b'{\"id\": \"L925\", \"conversation_id\": \"L924\", \"text\": \"Let\\'s go.\", \"speaker\": \"u0\", \"meta\": {\"movie_id\": \"m0\", \"parsed\": [{\"rt\": 0, \"toks\": [{\"tok\": \"Let\", \"tag\": \"VB\", \"dep\": \"ROOT\", \"dn\": [2, 3]}, {\"tok\": \"\\'s\", \"tag\": \"PRP\", \"dep\": \"nsubj\", \"up\": 2, \"dn\": []}, {\"tok\": \"go\", \"tag\": \"VB\", \"dep\": \"ccomp\", \"up\": 0, \"dn\": [1]}, {\"tok\": \".\", \"tag\": \".\", \"dep\": \"punct\", \"up\": 0, \"dn\": []}]}]}, \"reply-to\": \"L924\", \"timestamp\": null, \"vectors\": []}\\n'\n",
            "b'{\"id\": \"L924\", \"conversation_id\": \"L924\", \"text\": \"Wow\", \"speaker\": \"u2\", \"meta\": {\"movie_id\": \"m0\", \"parsed\": [{\"rt\": 0, \"toks\": [{\"tok\": \"Wow\", \"tag\": \"UH\", \"dep\": \"ROOT\", \"dn\": []}]}]}, \"reply-to\": null, \"timestamp\": null, \"vectors\": []}\\n'\n",
            "b'{\"id\": \"L872\", \"conversation_id\": \"L870\", \"text\": \"Okay -- you\\'re gonna need to learn how to lie.\", \"speaker\": \"u0\", \"meta\": {\"movie_id\": \"m0\", \"parsed\": [{\"rt\": 4, \"toks\": [{\"tok\": \"Okay\", \"tag\": \"UH\", \"dep\": \"intj\", \"up\": 4, \"dn\": []}, {\"tok\": \"--\", \"tag\": \":\", \"dep\": \"punct\", \"up\": 4, \"dn\": []}, {\"tok\": \"you\", \"tag\": \"PRP\", \"dep\": \"nsubj\", \"up\": 4, \"dn\": []}, {\"tok\": \"\\'re\", \"tag\": \"VBP\", \"dep\": \"aux\", \"up\": 4, \"dn\": []}, {\"tok\": \"gon\", \"tag\": \"VBG\", \"dep\": \"ROOT\", \"dn\": [0, 1, 2, 3, 6, 12]}, {\"tok\": \"na\", \"tag\": \"TO\", \"dep\": \"aux\", \"up\": 6, \"dn\": []}, {\"tok\": \"need\", \"tag\": \"VB\", \"dep\": \"xcomp\", \"up\": 4, \"dn\": [5, 8]}, {\"tok\": \"to\", \"tag\": \"TO\", \"dep\": \"aux\", \"up\": 8, \"dn\": []}, {\"tok\": \"learn\", \"tag\": \"VB\", \"dep\": \"xcomp\", \"up\": 6, \"dn\": [7, 11]}, {\"tok\": \"how\", \"tag\": \"WRB\", \"dep\": \"advmod\", \"up\": 11, \"dn\": []}, {\"tok\": \"to\", \"tag\": \"TO\", \"dep\": \"aux\", \"up\": 11, \"dn\": []}, {\"tok\": \"lie\", \"tag\": \"VB\", \"dep\": \"xcomp\", \"up\": 8, \"dn\": [9, 10]}, {\"tok\": \".\", \"tag\": \".\", \"dep\": \"punct\", \"up\": 4, \"dn\": []}]}]}, \"reply-to\": \"L871\", \"timestamp\": null, \"vectors\": []}\\n'\n",
            "b'{\"id\": \"L871\", \"conversation_id\": \"L870\", \"text\": \"No\", \"speaker\": \"u2\", \"meta\": {\"movie_id\": \"m0\", \"parsed\": [{\"rt\": 0, \"toks\": [{\"tok\": \"No\", \"tag\": \"UH\", \"dep\": \"ROOT\", \"dn\": []}]}]}, \"reply-to\": \"L870\", \"timestamp\": null, \"vectors\": []}\\n'\n",
            "b'{\"id\": \"L870\", \"conversation_id\": \"L870\", \"text\": \"I\\'m kidding.  You know how sometimes you just become this \\\\\"persona\\\\\"?  And you don\\'t know how to quit?\", \"speaker\": \"u0\", \"meta\": {\"movie_id\": \"m0\", \"parsed\": [{\"rt\": 2, \"toks\": [{\"tok\": \"I\", \"tag\": \"PRP\", \"dep\": \"nsubj\", \"up\": 2, \"dn\": []}, {\"tok\": \"\\'m\", \"tag\": \"VBP\", \"dep\": \"aux\", \"up\": 2, \"dn\": []}, {\"tok\": \"kidding\", \"tag\": \"VBG\", \"dep\": \"ROOT\", \"dn\": [0, 1, 3]}, {\"tok\": \".\", \"tag\": \".\", \"dep\": \"punct\", \"up\": 2, \"dn\": [4]}, {\"tok\": \" \", \"tag\": \"_SP\", \"dep\": \"\", \"up\": 3, \"dn\": []}]}, {\"rt\": 1, \"toks\": [{\"tok\": \"You\", \"tag\": \"PRP\", \"dep\": \"nsubj\", \"up\": 1, \"dn\": []}, {\"tok\": \"know\", \"tag\": \"VBP\", \"dep\": \"ROOT\", \"dn\": [0, 6, 11]}, {\"tok\": \"how\", \"tag\": \"WRB\", \"dep\": \"advmod\", \"up\": 3, \"dn\": []}, {\"tok\": \"sometimes\", \"tag\": \"RB\", \"dep\": \"advmod\", \"up\": 6, \"dn\": [2]}, {\"tok\": \"you\", \"tag\": \"PRP\", \"dep\": \"nsubj\", \"up\": 6, \"dn\": []}, {\"tok\": \"just\", \"tag\": \"RB\", \"dep\": \"advmod\", \"up\": 6, \"dn\": []}, {\"tok\": \"become\", \"tag\": \"VBP\", \"dep\": \"ccomp\", \"up\": 1, \"dn\": [3, 4, 5, 9]}, {\"tok\": \"this\", \"tag\": \"DT\", \"dep\": \"det\", \"up\": 9, \"dn\": []}, {\"tok\": \"\\\\\"\", \"tag\": \"``\", \"dep\": \"punct\", \"up\": 9, \"dn\": []}, {\"tok\": \"persona\", \"tag\": \"NN\", \"dep\": \"attr\", \"up\": 6, \"dn\": [7, 8, 10]}, {\"tok\": \"\\\\\"\", \"tag\": \"\\'\\'\", \"dep\": \"punct\", \"up\": 9, \"dn\": []}, {\"tok\": \"?\", \"tag\": \".\", \"dep\": \"punct\", \"up\": 1, \"dn\": [12]}, {\"tok\": \" \", \"tag\": \"_SP\", \"dep\": \"\", \"up\": 11, \"dn\": []}]}, {\"rt\": 4, \"toks\": [{\"tok\": \"And\", \"tag\": \"CC\", \"dep\": \"cc\", \"up\": 4, \"dn\": []}, {\"tok\": \"you\", \"tag\": \"PRP\", \"dep\": \"nsubj\", \"up\": 4, \"dn\": []}, {\"tok\": \"do\", \"tag\": \"VBP\", \"dep\": \"aux\", \"up\": 4, \"dn\": []}, {\"tok\": \"n\\'t\", \"tag\": \"RB\", \"dep\": \"neg\", \"up\": 4, \"dn\": []}, {\"tok\": \"know\", \"tag\": \"VB\", \"dep\": \"ROOT\", \"dn\": [0, 1, 2, 3, 7, 8]}, {\"tok\": \"how\", \"tag\": \"WRB\", \"dep\": \"advmod\", \"up\": 7, \"dn\": []}, {\"tok\": \"to\", \"tag\": \"TO\", \"dep\": \"aux\", \"up\": 7, \"dn\": []}, {\"tok\": \"quit\", \"tag\": \"VB\", \"dep\": \"xcomp\", \"up\": 4, \"dn\": [5, 6]}, {\"tok\": \"?\", \"tag\": \".\", \"dep\": \"punct\", \"up\": 4, \"dn\": []}]}]}, \"reply-to\": null, \"timestamp\": null, \"vectors\": []}\\n'\n",
            "b'{\"id\": \"L869\", \"conversation_id\": \"L866\", \"text\": \"Like my fear of wearing pastels?\", \"speaker\": \"u0\", \"meta\": {\"movie_id\": \"m0\", \"parsed\": [{\"rt\": 0, \"toks\": [{\"tok\": \"Like\", \"tag\": \"IN\", \"dep\": \"ROOT\", \"dn\": [2, 6]}, {\"tok\": \"my\", \"tag\": \"PRP$\", \"dep\": \"poss\", \"up\": 2, \"dn\": []}, {\"tok\": \"fear\", \"tag\": \"NN\", \"dep\": \"pobj\", \"up\": 0, \"dn\": [1, 3]}, {\"tok\": \"of\", \"tag\": \"IN\", \"dep\": \"prep\", \"up\": 2, \"dn\": [4]}, {\"tok\": \"wearing\", \"tag\": \"VBG\", \"dep\": \"pcomp\", \"up\": 3, \"dn\": [5]}, {\"tok\": \"pastels\", \"tag\": \"NNS\", \"dep\": \"dobj\", \"up\": 4, \"dn\": []}, {\"tok\": \"?\", \"tag\": \".\", \"dep\": \"punct\", \"up\": 0, \"dn\": []}]}]}, \"reply-to\": \"L868\", \"timestamp\": null, \"vectors\": []}\\n'\n"
          ]
        }
      ],
      "source": [
        "corpus_name = \"movie-corpus\"\n",
        "corpus = os.path.join(\"data\", corpus_name)\n",
        "\n",
        "def printLines(file, n=10):\n",
        "    with open(file, 'rb') as datafile:\n",
        "        lines = datafile.readlines()\n",
        "    for line in lines[:n]:\n",
        "        print(line)\n",
        "\n",
        "printLines(os.path.join(corpus, \"utterances.jsonl\"))"
      ]
    },
    {
      "cell_type": "markdown",
      "metadata": {
        "id": "RO6ForLZjjtP"
      },
      "source": [
        "Create formatted data file\n",
        "==========================\n",
        "\n",
        "For convenience, we\\'ll create a nicely formatted data file in which\n",
        "each line contains a tab-separated *query sentence* and a *response\n",
        "sentence* pair.\n",
        "\n",
        "The following functions facilitate the parsing of the raw\n",
        "`utterances.jsonl` data file.\n",
        "\n",
        "-   `loadLinesAndConversations` splits each line of the file into a\n",
        "    dictionary of lines with fields: `lineID`, `characterID`, and text\n",
        "    and then groups them into conversations with fields:\n",
        "    `conversationID`, `movieID`, and lines.\n",
        "-   `extractSentencePairs` extracts pairs of sentences from\n",
        "    conversations\n"
      ]
    },
    {
      "cell_type": "code",
      "execution_count": 12,
      "metadata": {
        "id": "n2-2-zSMjjtQ"
      },
      "outputs": [],
      "source": [
        "# Splits each line of the file to create lines and conversations\n",
        "def loadLinesAndConversations(fileName):\n",
        "    lines = {}\n",
        "    conversations = {}\n",
        "    with open(fileName, 'r', encoding='iso-8859-1') as f:\n",
        "        for line in f:\n",
        "            lineJson = json.loads(line)\n",
        "            # Extract fields for line object\n",
        "            lineObj = {}\n",
        "            lineObj[\"lineID\"] = lineJson[\"id\"]\n",
        "            lineObj[\"characterID\"] = lineJson[\"speaker\"]\n",
        "            lineObj[\"text\"] = lineJson[\"text\"]\n",
        "            lines[lineObj['lineID']] = lineObj\n",
        "\n",
        "            # Extract fields for conversation object\n",
        "            if lineJson[\"conversation_id\"] not in conversations:\n",
        "                convObj = {}\n",
        "                convObj[\"conversationID\"] = lineJson[\"conversation_id\"]\n",
        "                convObj[\"movieID\"] = lineJson[\"meta\"][\"movie_id\"]\n",
        "                convObj[\"lines\"] = [lineObj]\n",
        "            else:\n",
        "                convObj = conversations[lineJson[\"conversation_id\"]]\n",
        "                convObj[\"lines\"].insert(0, lineObj)\n",
        "            conversations[convObj[\"conversationID\"]] = convObj\n",
        "\n",
        "    return lines, conversations\n",
        "\n",
        "\n",
        "# Extracts pairs of sentences from conversations\n",
        "def extractSentencePairs(conversations):\n",
        "    qa_pairs = []\n",
        "    for conversation in conversations.values():\n",
        "        # Iterate over all the lines of the conversation\n",
        "        for i in range(len(conversation[\"lines\"]) - 1):  # We ignore the last line (no answer for it)\n",
        "            inputLine = conversation[\"lines\"][i][\"text\"].strip()\n",
        "            targetLine = conversation[\"lines\"][i+1][\"text\"].strip()\n",
        "            # Filter wrong samples (if one of the lists is empty)\n",
        "            if inputLine and targetLine:\n",
        "                qa_pairs.append([inputLine, targetLine])\n",
        "    return qa_pairs"
      ]
    },
    {
      "cell_type": "markdown",
      "metadata": {
        "id": "mUs0O-qljjtQ"
      },
      "source": [
        "Now we'll call these functions and create the file. We'll call it\n",
        "`formatted_movie_lines.txt`.\n"
      ]
    },
    {
      "cell_type": "code",
      "execution_count": 13,
      "metadata": {
        "colab": {
          "base_uri": "https://localhost:8080/"
        },
        "id": "enSQd-HijjtR",
        "outputId": "8e05a787-719f-4ec9-add5-5c0cf5cb454b"
      },
      "outputs": [
        {
          "output_type": "stream",
          "name": "stdout",
          "text": [
            "\n",
            "Processing corpus into lines and conversations...\n",
            "\n",
            "Writing newly formatted file...\n",
            "\n",
            "Sample lines from file:\n",
            "b'They do to!\\tThey do not!\\n'\n",
            "b'She okay?\\tI hope so.\\n'\n",
            "b\"Wow\\tLet's go.\\n\"\n",
            "b'\"I\\'m kidding.  You know how sometimes you just become this \"\"persona\"\"?  And you don\\'t know how to quit?\"\\tNo\\n'\n",
            "b\"No\\tOkay -- you're gonna need to learn how to lie.\\n\"\n",
            "b\"I figured you'd get to the good stuff eventually.\\tWhat good stuff?\\n\"\n",
            "b'What good stuff?\\t\"The \"\"real you\"\".\"\\n'\n",
            "b'\"The \"\"real you\"\".\"\\tLike my fear of wearing pastels?\\n'\n",
            "b'do you listen to this crap?\\tWhat crap?\\n'\n",
            "b\"What crap?\\tMe.  This endless ...blonde babble. I'm like, boring myself.\\n\"\n"
          ]
        }
      ],
      "source": [
        "# Define path to new file\n",
        "datafile = os.path.join(corpus, \"formatted_movie_lines.txt\")\n",
        "\n",
        "delimiter = '\\t'\n",
        "# Unescape the delimiter\n",
        "delimiter = str(codecs.decode(delimiter, \"unicode_escape\"))\n",
        "\n",
        "# Initialize lines dict and conversations dict\n",
        "lines = {}\n",
        "conversations = {}\n",
        "# Load lines and conversations\n",
        "print(\"\\nProcessing corpus into lines and conversations...\")\n",
        "lines, conversations = loadLinesAndConversations(os.path.join(corpus, \"utterances.jsonl\"))\n",
        "\n",
        "# Write new csv file\n",
        "print(\"\\nWriting newly formatted file...\")\n",
        "with open(datafile, 'w', encoding='utf-8') as outputfile:\n",
        "    writer = csv.writer(outputfile, delimiter=delimiter, lineterminator='\\n')\n",
        "    for pair in extractSentencePairs(conversations):\n",
        "        writer.writerow(pair)\n",
        "\n",
        "# Print a sample of lines\n",
        "print(\"\\nSample lines from file:\")\n",
        "printLines(datafile)"
      ]
    },
    {
      "cell_type": "markdown",
      "metadata": {
        "id": "A-oGg3qqjjtR"
      },
      "source": [
        "Load and trim data\n",
        "==================\n",
        "\n",
        "Our next order of business is to create a vocabulary and load\n",
        "query/response sentence pairs into memory.\n",
        "\n",
        "Note that we are dealing with sequences of **words**, which do not have\n",
        "an implicit mapping to a discrete numerical space. Thus, we must create\n",
        "one by mapping each unique word that we encounter in our dataset to an\n",
        "index value.\n",
        "\n",
        "For this we define a `Voc` class, which keeps a mapping from words to\n",
        "indexes, a reverse mapping of indexes to words, a count of each word and\n",
        "a total word count. The class provides methods for adding a word to the\n",
        "vocabulary (`addWord`), adding all words in a sentence (`addSentence`)\n",
        "and trimming infrequently seen words (`trim`). More on trimming later.\n"
      ]
    },
    {
      "cell_type": "code",
      "execution_count": 14,
      "metadata": {
        "id": "PbSUlkSUjjtR"
      },
      "outputs": [],
      "source": [
        "# Default word tokens\n",
        "PAD_token = 0  # Used for padding short sentences\n",
        "SOS_token = 1  # Start-of-sentence token\n",
        "EOS_token = 2  # End-of-sentence token\n",
        "\n",
        "class Voc:\n",
        "    def __init__(self, name):\n",
        "        self.name = name\n",
        "        self.trimmed = False\n",
        "        self.word2index = {}\n",
        "        self.word2count = {}\n",
        "        self.index2word = {PAD_token: \"PAD\", SOS_token: \"SOS\", EOS_token: \"EOS\"}\n",
        "        self.num_words = 3  # Count SOS, EOS, PAD\n",
        "\n",
        "    def addSentence(self, sentence):\n",
        "        for word in sentence.split(' '):\n",
        "            self.addWord(word)\n",
        "\n",
        "    def addWord(self, word):\n",
        "        if word not in self.word2index:\n",
        "            self.word2index[word] = self.num_words\n",
        "            self.word2count[word] = 1\n",
        "            self.index2word[self.num_words] = word\n",
        "            self.num_words += 1\n",
        "        else:\n",
        "            self.word2count[word] += 1\n",
        "\n",
        "    # Remove words below a certain count threshold\n",
        "    def trim(self, min_count):\n",
        "        if self.trimmed:\n",
        "            return\n",
        "        self.trimmed = True\n",
        "\n",
        "        keep_words = []\n",
        "\n",
        "        for k, v in self.word2count.items():\n",
        "            if v >= min_count:\n",
        "                keep_words.append(k)\n",
        "\n",
        "        print('keep_words {} / {} = {:.4f}'.format(\n",
        "            len(keep_words), len(self.word2index), len(keep_words) / len(self.word2index)\n",
        "        ))\n",
        "\n",
        "        # Reinitialize dictionaries\n",
        "        self.word2index = {}\n",
        "        self.word2count = {}\n",
        "        self.index2word = {PAD_token: \"PAD\", SOS_token: \"SOS\", EOS_token: \"EOS\"}\n",
        "        self.num_words = 3 # Count default tokens\n",
        "\n",
        "        for word in keep_words:\n",
        "            self.addWord(word)"
      ]
    },
    {
      "cell_type": "markdown",
      "metadata": {
        "id": "aq1P3S8CjjtR"
      },
      "source": [
        "Now we can assemble our vocabulary and query/response sentence pairs.\n",
        "Before we are ready to use this data, we must perform some\n",
        "preprocessing.\n",
        "\n",
        "First, we must convert the Unicode strings to ASCII using\n",
        "`unicodeToAscii`. Next, we should convert all letters to lowercase and\n",
        "trim all non-letter characters except for basic punctuation\n",
        "(`normalizeString`). Finally, to aid in training convergence, we will\n",
        "filter out sentences with length greater than the `MAX_LENGTH` threshold\n",
        "(`filterPairs`).\n"
      ]
    },
    {
      "cell_type": "code",
      "execution_count": 15,
      "metadata": {
        "colab": {
          "base_uri": "https://localhost:8080/"
        },
        "id": "2LpziHeCjjtS",
        "outputId": "75edae5d-8dbc-4128-9d52-1dcfab5ec44f"
      },
      "outputs": [
        {
          "output_type": "stream",
          "name": "stdout",
          "text": [
            "Start preparing training data ...\n",
            "Reading lines...\n",
            "Read 221282 sentence pairs\n",
            "Trimmed to 64313 sentence pairs\n",
            "Counting words...\n",
            "Counted words: 18082\n",
            "\n",
            "pairs:\n",
            "['they do to !', 'they do not !']\n",
            "['she okay ?', 'i hope so .']\n",
            "['wow', 'let s go .']\n",
            "['what good stuff ?', 'the real you .']\n",
            "['the real you .', 'like my fear of wearing pastels ?']\n",
            "['do you listen to this crap ?', 'what crap ?']\n",
            "['well no . . .', 'then that s all you had to say .']\n",
            "['then that s all you had to say .', 'but']\n",
            "['but', 'you always been this selfish ?']\n",
            "['have fun tonight ?', 'tons']\n"
          ]
        }
      ],
      "source": [
        "MAX_LENGTH = 10  # Maximum sentence length to consider\n",
        "\n",
        "# Turn a Unicode string to plain ASCII, thanks to\n",
        "# https://stackoverflow.com/a/518232/2809427\n",
        "def unicodeToAscii(s):\n",
        "    return ''.join(\n",
        "        c for c in unicodedata.normalize('NFD', s)\n",
        "        if unicodedata.category(c) != 'Mn'\n",
        "    )\n",
        "\n",
        "# Lowercase, trim, and remove non-letter characters\n",
        "def normalizeString(s):\n",
        "    s = unicodeToAscii(s.lower().strip())\n",
        "    s = re.sub(r\"([.!?])\", r\" \\1\", s)\n",
        "    s = re.sub(r\"[^a-zA-Z.!?]+\", r\" \", s)\n",
        "    s = re.sub(r\"\\s+\", r\" \", s).strip()\n",
        "    return s\n",
        "\n",
        "# Read query/response pairs and return a voc object\n",
        "def readVocs(datafile, corpus_name):\n",
        "    print(\"Reading lines...\")\n",
        "    # Read the file and split into lines\n",
        "    lines = open(datafile, encoding='utf-8').\\\n",
        "        read().strip().split('\\n')\n",
        "    # Split every line into pairs and normalize\n",
        "    pairs = [[normalizeString(s) for s in l.split('\\t')] for l in lines]\n",
        "    voc = Voc(corpus_name)\n",
        "    return voc, pairs\n",
        "\n",
        "# Returns True if both sentences in a pair 'p' are under the MAX_LENGTH threshold\n",
        "def filterPair(p):\n",
        "    # Input sequences need to preserve the last word for EOS token\n",
        "    return len(p[0].split(' ')) < MAX_LENGTH and len(p[1].split(' ')) < MAX_LENGTH\n",
        "\n",
        "# Filter pairs using the ``filterPair`` condition\n",
        "def filterPairs(pairs):\n",
        "    return [pair for pair in pairs if filterPair(pair)]\n",
        "\n",
        "# Using the functions defined above, return a populated voc object and pairs list\n",
        "def loadPrepareData(corpus, corpus_name, datafile, save_dir):\n",
        "    print(\"Start preparing training data ...\")\n",
        "    voc, pairs = readVocs(datafile, corpus_name)\n",
        "    print(\"Read {!s} sentence pairs\".format(len(pairs)))\n",
        "    pairs = filterPairs(pairs)\n",
        "    print(\"Trimmed to {!s} sentence pairs\".format(len(pairs)))\n",
        "    print(\"Counting words...\")\n",
        "    for pair in pairs:\n",
        "        voc.addSentence(pair[0])\n",
        "        voc.addSentence(pair[1])\n",
        "    print(\"Counted words:\", voc.num_words)\n",
        "    return voc, pairs\n",
        "\n",
        "\n",
        "# Load/Assemble voc and pairs\n",
        "save_dir = os.path.join(\"data\", \"save\")\n",
        "voc, pairs = loadPrepareData(corpus, corpus_name, datafile, save_dir)\n",
        "# Print some pairs to validate\n",
        "print(\"\\npairs:\")\n",
        "for pair in pairs[:10]:\n",
        "    print(pair)"
      ]
    },
    {
      "cell_type": "markdown",
      "metadata": {
        "id": "eFSzIufGjjtS"
      },
      "source": [
        "Another tactic that is beneficial to achieving faster convergence during\n",
        "training is trimming rarely used words out of our vocabulary. Decreasing\n",
        "the feature space will also soften the difficulty of the function that\n",
        "the model must learn to approximate. We will do this as a two-step\n",
        "process:\n",
        "\n",
        "1)  Trim words used under `MIN_COUNT` threshold using the `voc.trim`\n",
        "    function.\n",
        "2)  Filter out pairs with trimmed words.\n"
      ]
    },
    {
      "cell_type": "code",
      "execution_count": 16,
      "metadata": {
        "colab": {
          "base_uri": "https://localhost:8080/"
        },
        "id": "NkK1pmpdjjtS",
        "outputId": "ffd25401-c7bd-4522-e44e-6223aec9b253"
      },
      "outputs": [
        {
          "output_type": "stream",
          "name": "stdout",
          "text": [
            "keep_words 7833 / 18079 = 0.4333\n",
            "Trimmed from 64313 pairs to 53131, 0.8261 of total\n"
          ]
        }
      ],
      "source": [
        "MIN_COUNT = 3    # Minimum word count threshold for trimming\n",
        "\n",
        "def trimRareWords(voc, pairs, MIN_COUNT):\n",
        "    # Trim words used under the MIN_COUNT from the voc\n",
        "    voc.trim(MIN_COUNT)\n",
        "    # Filter out pairs with trimmed words\n",
        "    keep_pairs = []\n",
        "    for pair in pairs:\n",
        "        input_sentence = pair[0]\n",
        "        output_sentence = pair[1]\n",
        "        keep_input = True\n",
        "        keep_output = True\n",
        "        # Check input sentence\n",
        "        for word in input_sentence.split(' '):\n",
        "            if word not in voc.word2index:\n",
        "                keep_input = False\n",
        "                break\n",
        "        # Check output sentence\n",
        "        for word in output_sentence.split(' '):\n",
        "            if word not in voc.word2index:\n",
        "                keep_output = False\n",
        "                break\n",
        "\n",
        "        # Only keep pairs that do not contain trimmed word(s) in their input or output sentence\n",
        "        if keep_input and keep_output:\n",
        "            keep_pairs.append(pair)\n",
        "\n",
        "    print(\"Trimmed from {} pairs to {}, {:.4f} of total\".format(len(pairs), len(keep_pairs), len(keep_pairs) / len(pairs)))\n",
        "    return keep_pairs\n",
        "\n",
        "\n",
        "# Trim voc and pairs\n",
        "pairs = trimRareWords(voc, pairs, MIN_COUNT)"
      ]
    },
    {
      "cell_type": "markdown",
      "metadata": {
        "id": "gEbY-jO_jjtS"
      },
      "source": [
        "Prepare Data for Models\n",
        "=======================\n",
        "\n",
        "Although we have put a great deal of effort into preparing and massaging\n",
        "our data into a nice vocabulary object and list of sentence pairs, our\n",
        "models will ultimately expect numerical torch tensors as inputs. One way\n",
        "to prepare the processed data for the models can be found in the\n",
        "[seq2seq translation\n",
        "tutorial](https://pytorch.org/tutorials/intermediate/seq2seq_translation_tutorial.html).\n",
        "In that tutorial, we use a batch size of 1, meaning that all we have to\n",
        "do is convert the words in our sentence pairs to their corresponding\n",
        "indexes from the vocabulary and feed this to the models.\n",
        "\n",
        "However, if you're interested in speeding up training and/or would like\n",
        "to leverage GPU parallelization capabilities, you will need to train\n",
        "with mini-batches.\n",
        "\n",
        "Using mini-batches also means that we must be mindful of the variation\n",
        "of sentence length in our batches. To accommodate sentences of different\n",
        "sizes in the same batch, we will make our batched input tensor of shape\n",
        "*(max\\_length, batch\\_size)*, where sentences shorter than the\n",
        "*max\\_length* are zero padded after an *EOS\\_token*.\n",
        "\n",
        "If we simply convert our English sentences to tensors by converting\n",
        "words to their indexes(`indexesFromSentence`) and zero-pad, our tensor\n",
        "would have shape *(batch\\_size, max\\_length)* and indexing the first\n",
        "dimension would return a full sequence across all time-steps. However,\n",
        "we need to be able to index our batch along time, and across all\n",
        "sequences in the batch. Therefore, we transpose our input batch shape to\n",
        "*(max\\_length, batch\\_size)*, so that indexing across the first\n",
        "dimension returns a time step across all sentences in the batch. We\n",
        "handle this transpose implicitly in the `zeroPadding` function.\n",
        "\n",
        "![](https://pytorch.org/tutorials/_static/img/chatbot/seq2seq_batches.png){.align-center}\n",
        "\n",
        "The `inputVar` function handles the process of converting sentences to\n",
        "tensor, ultimately creating a correctly shaped zero-padded tensor. It\n",
        "also returns a tensor of `lengths` for each of the sequences in the\n",
        "batch which will be passed to our decoder later.\n",
        "\n",
        "The `outputVar` function performs a similar function to `inputVar`, but\n",
        "instead of returning a `lengths` tensor, it returns a binary mask tensor\n",
        "and a maximum target sentence length. The binary mask tensor has the\n",
        "same shape as the output target tensor, but every element that is a\n",
        "*PAD\\_token* is 0 and all others are 1.\n",
        "\n",
        "`batch2TrainData` simply takes a bunch of pairs and returns the input\n",
        "and target tensors using the aforementioned functions.\n"
      ]
    },
    {
      "cell_type": "code",
      "execution_count": 17,
      "metadata": {
        "colab": {
          "base_uri": "https://localhost:8080/"
        },
        "id": "CgO3kDXYjjtS",
        "outputId": "06694e94-7c75-441c-e7b8-1f0c757f6629"
      },
      "outputs": [
        {
          "output_type": "stream",
          "name": "stdout",
          "text": [
            "input_variable: tensor([[  11,   11,  251,   36,  103],\n",
            "        [ 105,  251,  298,  105,   10],\n",
            "        [  62,   48,   28,   68,    2],\n",
            "        [2977,  296,   85,   14,    0],\n",
            "        [  28,   14,   14,    2,    0],\n",
            "        [4644,    2,    2,    0,    0],\n",
            "        [  14,    0,    0,    0,    0],\n",
            "        [   2,    0,    0,    0,    0]])\n",
            "lengths: tensor([8, 6, 6, 5, 3])\n",
            "target_variable: tensor([[   3,  178,   36,  665, 6540],\n",
            "        [ 307,   14,   17,   10,   17],\n",
            "        [  44,    3,    7,    2,  158],\n",
            "        [2680,  385,  512,    0,  254],\n",
            "        [  24,  386,  853,    0,  279],\n",
            "        [  84,  511,   14,    0,   14],\n",
            "        [  36,   14,    2,    0,    2],\n",
            "        [ 140,    2,    0,    0,    0],\n",
            "        [  14,    0,    0,    0,    0],\n",
            "        [   2,    0,    0,    0,    0]])\n",
            "mask: tensor([[ True,  True,  True,  True,  True],\n",
            "        [ True,  True,  True,  True,  True],\n",
            "        [ True,  True,  True,  True,  True],\n",
            "        [ True,  True,  True, False,  True],\n",
            "        [ True,  True,  True, False,  True],\n",
            "        [ True,  True,  True, False,  True],\n",
            "        [ True,  True,  True, False,  True],\n",
            "        [ True,  True, False, False, False],\n",
            "        [ True, False, False, False, False],\n",
            "        [ True, False, False, False, False]])\n",
            "max_target_len: 10\n"
          ]
        }
      ],
      "source": [
        "def indexesFromSentence(voc, sentence):\n",
        "    return [voc.word2index[word] for word in sentence.split(' ')] + [EOS_token]\n",
        "\n",
        "\n",
        "def zeroPadding(l, fillvalue=PAD_token):\n",
        "    return list(itertools.zip_longest(*l, fillvalue=fillvalue))\n",
        "\n",
        "def binaryMatrix(l, value=PAD_token):\n",
        "    m = []\n",
        "    for i, seq in enumerate(l):\n",
        "        m.append([])\n",
        "        for token in seq:\n",
        "            if token == PAD_token:\n",
        "                m[i].append(0)\n",
        "            else:\n",
        "                m[i].append(1)\n",
        "    return m\n",
        "\n",
        "# Returns padded input sequence tensor and lengths\n",
        "def inputVar(l, voc):\n",
        "    indexes_batch = [indexesFromSentence(voc, sentence) for sentence in l]\n",
        "    lengths = torch.tensor([len(indexes) for indexes in indexes_batch])\n",
        "    padList = zeroPadding(indexes_batch)\n",
        "    padVar = torch.LongTensor(padList)\n",
        "    return padVar, lengths\n",
        "\n",
        "# Returns padded target sequence tensor, padding mask, and max target length\n",
        "def outputVar(l, voc):\n",
        "    indexes_batch = [indexesFromSentence(voc, sentence) for sentence in l]\n",
        "    max_target_len = max([len(indexes) for indexes in indexes_batch])\n",
        "    padList = zeroPadding(indexes_batch)\n",
        "    mask = binaryMatrix(padList)\n",
        "    mask = torch.BoolTensor(mask)\n",
        "    padVar = torch.LongTensor(padList)\n",
        "    return padVar, mask, max_target_len\n",
        "\n",
        "# Returns all items for a given batch of pairs\n",
        "def batch2TrainData(voc, pair_batch):\n",
        "    pair_batch.sort(key=lambda x: len(x[0].split(\" \")), reverse=True)\n",
        "    input_batch, output_batch = [], []\n",
        "    for pair in pair_batch:\n",
        "        input_batch.append(pair[0])\n",
        "        output_batch.append(pair[1])\n",
        "    inp, lengths = inputVar(input_batch, voc)\n",
        "    output, mask, max_target_len = outputVar(output_batch, voc)\n",
        "    return inp, lengths, output, mask, max_target_len\n",
        "\n",
        "\n",
        "# Example for validation\n",
        "small_batch_size = 5\n",
        "batches = batch2TrainData(voc, [random.choice(pairs) for _ in range(small_batch_size)])\n",
        "input_variable, lengths, target_variable, mask, max_target_len = batches\n",
        "\n",
        "print(\"input_variable:\", input_variable)\n",
        "print(\"lengths:\", lengths)\n",
        "print(\"target_variable:\", target_variable)\n",
        "print(\"mask:\", mask)\n",
        "print(\"max_target_len:\", max_target_len)"
      ]
    },
    {
      "cell_type": "markdown",
      "metadata": {
        "id": "rnYwCusNjjtT"
      },
      "source": [
        "Define Models\n",
        "=============\n",
        "\n",
        "Seq2Seq Model\n",
        "-------------\n",
        "\n",
        "The brains of our chatbot is a sequence-to-sequence (seq2seq) model. The\n",
        "goal of a seq2seq model is to take a variable-length sequence as an\n",
        "input, and return a variable-length sequence as an output using a\n",
        "fixed-sized model.\n",
        "\n",
        "[Sutskever et al.](https://arxiv.org/abs/1409.3215) discovered that by\n",
        "using two separate recurrent neural nets together, we can accomplish\n",
        "this task. One RNN acts as an **encoder**, which encodes a variable\n",
        "length input sequence to a fixed-length context vector. In theory, this\n",
        "context vector (the final hidden layer of the RNN) will contain semantic\n",
        "information about the query sentence that is input to the bot. The\n",
        "second RNN is a **decoder**, which takes an input word and the context\n",
        "vector, and returns a guess for the next word in the sequence and a\n",
        "hidden state to use in the next iteration.\n",
        "\n",
        "![](https://pytorch.org/tutorials/_static/img/chatbot/seq2seq_ts.png){.align-center}\n",
        "\n",
        "Image source:\n",
        "<https://jeddy92.github.io/JEddy92.github.io/ts_seq2seq_intro/>\n"
      ]
    },
    {
      "cell_type": "markdown",
      "metadata": {
        "id": "RKwlfGRgjjtT"
      },
      "source": [
        "Encoder\n",
        "=======\n",
        "\n",
        "The encoder RNN iterates through the input sentence one token\n",
        "(e.g. word) at a time, at each time step outputting an \"output\" vector\n",
        "and a \"hidden state\" vector. The hidden state vector is then passed to\n",
        "the next time step, while the output vector is recorded. The encoder\n",
        "transforms the context it saw at each point in the sequence into a set\n",
        "of points in a high-dimensional space, which the decoder will use to\n",
        "generate a meaningful output for the given task.\n",
        "\n",
        "At the heart of our encoder is a multi-layered Gated Recurrent Unit,\n",
        "invented by [Cho et al.](https://arxiv.org/pdf/1406.1078v3.pdf) in 2014.\n",
        "We will use a bidirectional variant of the GRU, meaning that there are\n",
        "essentially two independent RNNs: one that is fed the input sequence in\n",
        "normal sequential order, and one that is fed the input sequence in\n",
        "reverse order. The outputs of each network are summed at each time step.\n",
        "Using a bidirectional GRU will give us the advantage of encoding both\n",
        "past and future contexts.\n",
        "\n",
        "Bidirectional RNN:\n",
        "\n",
        "![](https://pytorch.org/tutorials/_static/img/chatbot/RNN-bidirectional.png){.align-center\n",
        "width=\"70.0%\"}\n",
        "\n",
        "Image source: <https://colah.github.io/posts/2015-09-NN-Types-FP/>\n",
        "\n",
        "Note that an `embedding` layer is used to encode our word indices in an\n",
        "arbitrarily sized feature space. For our models, this layer will map\n",
        "each word to a feature space of size *hidden\\_size*. When trained, these\n",
        "values should encode semantic similarity between similar meaning words.\n",
        "\n",
        "Finally, if passing a padded batch of sequences to an RNN module, we\n",
        "must pack and unpack padding around the RNN pass using\n",
        "`nn.utils.rnn.pack_padded_sequence` and\n",
        "`nn.utils.rnn.pad_packed_sequence` respectively.\n",
        "\n",
        "**Computation Graph:**\n",
        "\n",
        "> 1)  Convert word indexes to embeddings.\n",
        "> 2)  Pack padded batch of sequences for RNN module.\n",
        "> 3)  Forward pass through GRU.\n",
        "> 4)  Unpack padding.\n",
        "> 5)  Sum bidirectional GRU outputs.\n",
        "> 6)  Return output and final hidden state.\n",
        "\n",
        "**Inputs:**\n",
        "\n",
        "-   `input_seq`: batch of input sentences; shape=*(max\\_length,\n",
        "    batch\\_size)*\n",
        "-   `input_lengths`: list of sentence lengths corresponding to each\n",
        "    sentence in the batch; shape=*(batch\\_size)*\n",
        "-   `hidden`: hidden state; shape=*(n\\_layers x num\\_directions,\n",
        "    batch\\_size, hidden\\_size)*\n",
        "\n",
        "**Outputs:**\n",
        "\n",
        "-   `outputs`: output features from the last hidden layer of the GRU\n",
        "    (sum of bidirectional outputs); shape=*(max\\_length, batch\\_size,\n",
        "    hidden\\_size)*\n",
        "-   `hidden`: updated hidden state from GRU; shape=*(n\\_layers x\n",
        "    num\\_directions, batch\\_size, hidden\\_size)*\n"
      ]
    },
    {
      "cell_type": "code",
      "execution_count": 18,
      "metadata": {
        "id": "WnFqSf-CjjtT"
      },
      "outputs": [],
      "source": [
        "class EncoderRNN(nn.Module):\n",
        "    def __init__(self, hidden_size, embedding, n_layers=1, dropout=0):\n",
        "        super(EncoderRNN, self).__init__()\n",
        "        self.n_layers = n_layers\n",
        "        self.hidden_size = hidden_size\n",
        "        self.embedding = embedding\n",
        "\n",
        "        # Initialize GRU; the input_size and hidden_size parameters are both set to 'hidden_size'\n",
        "        #   because our input size is a word embedding with number of features == hidden_size\n",
        "        self.gru = nn.GRU(hidden_size, hidden_size, n_layers,\n",
        "                          dropout=(0 if n_layers == 1 else dropout), bidirectional=True)\n",
        "\n",
        "    def forward(self, input_seq, input_lengths, hidden=None):\n",
        "        # Convert word indexes to embeddings\n",
        "        embedded = self.embedding(input_seq)\n",
        "        # Pack padded batch of sequences for RNN module\n",
        "        packed = nn.utils.rnn.pack_padded_sequence(embedded, input_lengths)\n",
        "        # Forward pass through GRU\n",
        "        outputs, hidden = self.gru(packed, hidden)\n",
        "        # Unpack padding\n",
        "        outputs, _ = nn.utils.rnn.pad_packed_sequence(outputs)\n",
        "        # Sum bidirectional GRU outputs\n",
        "        outputs = outputs[:, :, :self.hidden_size] + outputs[:, : ,self.hidden_size:]\n",
        "        # Return output and final hidden state\n",
        "        return outputs, hidden"
      ]
    },
    {
      "cell_type": "markdown",
      "metadata": {
        "id": "hrvPohBVjjtT"
      },
      "source": [
        "Decoder\n",
        "=======\n",
        "\n",
        "The decoder RNN generates the response sentence in a token-by-token\n",
        "fashion. It uses the encoder's context vectors, and internal hidden\n",
        "states to generate the next word in the sequence. It continues\n",
        "generating words until it outputs an *EOS\\_token*, representing the end\n",
        "of the sentence. A common problem with a vanilla seq2seq decoder is that\n",
        "if we rely solely on the context vector to encode the entire input\n",
        "sequence's meaning, it is likely that we will have information loss.\n",
        "This is especially the case when dealing with long input sequences,\n",
        "greatly limiting the capability of our decoder.\n",
        "\n",
        "To combat this, [Bahdanau et al.](https://arxiv.org/abs/1409.0473)\n",
        "created an \"attention mechanism\" that allows the decoder to pay\n",
        "attention to certain parts of the input sequence, rather than using the\n",
        "entire fixed context at every step.\n",
        "\n",
        "At a high level, attention is calculated using the decoder's current\n",
        "hidden state and the encoder's outputs. The output attention weights\n",
        "have the same shape as the input sequence, allowing us to multiply them\n",
        "by the encoder outputs, giving us a weighted sum which indicates the\n",
        "parts of encoder output to pay attention to. [Sean\n",
        "Robertson's](https://github.com/spro) figure describes this very well:\n",
        "\n",
        "![](https://pytorch.org/tutorials/_static/img/chatbot/attn2.png){.align-center}\n",
        "\n",
        "[Luong et al.](https://arxiv.org/abs/1508.04025) improved upon Bahdanau\n",
        "et al.'s groundwork by creating \"Global attention\". The key difference\n",
        "is that with \"Global attention\", we consider all of the encoder's hidden\n",
        "states, as opposed to Bahdanau et al.'s \"Local attention\", which only\n",
        "considers the encoder's hidden state from the current time step. Another\n",
        "difference is that with \"Global attention\", we calculate attention\n",
        "weights, or energies, using the hidden state of the decoder from the\n",
        "current time step only. Bahdanau et al.'s attention calculation requires\n",
        "knowledge of the decoder's state from the previous time step. Also,\n",
        "Luong et al. provides various methods to calculate the attention\n",
        "energies between the encoder output and decoder output which are called\n",
        "\"score functions\":\n",
        "\n",
        "![](https://pytorch.org/tutorials/_static/img/chatbot/scores.png){.align-center\n",
        "width=\"60.0%\"}\n",
        "\n",
        "where $h_t$ = current target decoder state and $\\bar{h}_s$ = all encoder\n",
        "states.\n",
        "\n",
        "Overall, the Global attention mechanism can be summarized by the\n",
        "following figure. Note that we will implement the \"Attention Layer\" as a\n",
        "separate `nn.Module` called `Attn`. The output of this module is a\n",
        "softmax normalized weights tensor of shape *(batch\\_size, 1,\n",
        "max\\_length)*.\n",
        "\n",
        "![](https://pytorch.org/tutorials/_static/img/chatbot/global_attn.png){.align-center\n",
        "width=\"60.0%\"}\n"
      ]
    },
    {
      "cell_type": "code",
      "execution_count": 19,
      "metadata": {
        "id": "JjKhDuMAjjtT"
      },
      "outputs": [],
      "source": [
        "# Luong attention layer\n",
        "class Attn(nn.Module):\n",
        "    def __init__(self, method, hidden_size):\n",
        "        super(Attn, self).__init__()\n",
        "        self.method = method\n",
        "        if self.method not in ['dot', 'general', 'concat']:\n",
        "            raise ValueError(self.method, \"is not an appropriate attention method.\")\n",
        "        self.hidden_size = hidden_size\n",
        "        if self.method == 'general':\n",
        "            self.attn = nn.Linear(self.hidden_size, hidden_size)\n",
        "        elif self.method == 'concat':\n",
        "            self.attn = nn.Linear(self.hidden_size * 2, hidden_size)\n",
        "            self.v = nn.Parameter(torch.FloatTensor(hidden_size))\n",
        "\n",
        "    def dot_score(self, hidden, encoder_output):\n",
        "        return torch.sum(hidden * encoder_output, dim=2)\n",
        "\n",
        "    def general_score(self, hidden, encoder_output):\n",
        "        energy = self.attn(encoder_output)\n",
        "        return torch.sum(hidden * energy, dim=2)\n",
        "\n",
        "    def concat_score(self, hidden, encoder_output):\n",
        "        energy = self.attn(torch.cat((hidden.expand(encoder_output.size(0), -1, -1), encoder_output), 2)).tanh()\n",
        "        return torch.sum(self.v * energy, dim=2)\n",
        "\n",
        "    def forward(self, hidden, encoder_outputs):\n",
        "        # Calculate the attention weights (energies) based on the given method\n",
        "        if self.method == 'general':\n",
        "            attn_energies = self.general_score(hidden, encoder_outputs)\n",
        "        elif self.method == 'concat':\n",
        "            attn_energies = self.concat_score(hidden, encoder_outputs)\n",
        "        elif self.method == 'dot':\n",
        "            attn_energies = self.dot_score(hidden, encoder_outputs)\n",
        "\n",
        "        # Transpose max_length and batch_size dimensions\n",
        "        attn_energies = attn_energies.t()\n",
        "\n",
        "        # Return the softmax normalized probability scores (with added dimension)\n",
        "        return F.softmax(attn_energies, dim=1).unsqueeze(1)"
      ]
    },
    {
      "cell_type": "markdown",
      "metadata": {
        "id": "ph9wSBlOjjtU"
      },
      "source": [
        "Now that we have defined our attention submodule, we can implement the\n",
        "actual decoder model. For the decoder, we will manually feed our batch\n",
        "one time step at a time. This means that our embedded word tensor and\n",
        "GRU output will both have shape *(1, batch\\_size, hidden\\_size)*.\n",
        "\n",
        "**Computation Graph:**\n",
        "\n",
        "> 1)  Get embedding of current input word.\n",
        "> 2)  Forward through unidirectional GRU.\n",
        "> 3)  Calculate attention weights from the current GRU output from (2).\n",
        "> 4)  Multiply attention weights to encoder outputs to get new\n",
        ">     \\\"weighted sum\\\" context vector.\n",
        "> 5)  Concatenate weighted context vector and GRU output using Luong\n",
        ">     eq. 5.\n",
        "> 6)  Predict next word using Luong eq. 6 (without softmax).\n",
        "> 7)  Return output and final hidden state.\n",
        "\n",
        "**Inputs:**\n",
        "\n",
        "-   `input_step`: one time step (one word) of input sequence batch;\n",
        "    shape=*(1, batch\\_size)*\n",
        "-   `last_hidden`: final hidden layer of GRU; shape=*(n\\_layers x\n",
        "    num\\_directions, batch\\_size, hidden\\_size)*\n",
        "-   `encoder_outputs`: encoder model's output; shape=*(max\\_length,\n",
        "    batch\\_size, hidden\\_size)*\n",
        "\n",
        "**Outputs:**\n",
        "\n",
        "-   `output`: softmax normalized tensor giving probabilities of each\n",
        "    word being the correct next word in the decoded sequence;\n",
        "    shape=*(batch\\_size, voc.num\\_words)*\n",
        "-   `hidden`: final hidden state of GRU; shape=*(n\\_layers x\n",
        "    num\\_directions, batch\\_size, hidden\\_size)*\n"
      ]
    },
    {
      "cell_type": "code",
      "execution_count": 20,
      "metadata": {
        "id": "iv7DY-FXjjtU"
      },
      "outputs": [],
      "source": [
        "class LuongAttnDecoderRNN(nn.Module):\n",
        "    def __init__(self, attn_model, embedding, hidden_size, output_size, n_layers=1, dropout=0.1):\n",
        "        super(LuongAttnDecoderRNN, self).__init__()\n",
        "\n",
        "        # Keep for reference\n",
        "        self.attn_model = attn_model\n",
        "        self.hidden_size = hidden_size\n",
        "        self.output_size = output_size\n",
        "        self.n_layers = n_layers\n",
        "        self.dropout = dropout\n",
        "\n",
        "        # Define layers\n",
        "        self.embedding = embedding\n",
        "        self.embedding_dropout = nn.Dropout(dropout)\n",
        "        self.gru = nn.GRU(hidden_size, hidden_size, n_layers, dropout=(0 if n_layers == 1 else dropout))\n",
        "        self.concat = nn.Linear(hidden_size * 2, hidden_size)\n",
        "        self.out = nn.Linear(hidden_size, output_size)\n",
        "\n",
        "        self.attn = Attn(attn_model, hidden_size)\n",
        "\n",
        "    def forward(self, input_step, last_hidden, encoder_outputs):\n",
        "        # Note: we run this one step (word) at a time\n",
        "        # Get embedding of current input word\n",
        "        embedded = self.embedding(input_step)\n",
        "        embedded = self.embedding_dropout(embedded)\n",
        "        # Forward through unidirectional GRU\n",
        "        rnn_output, hidden = self.gru(embedded, last_hidden)\n",
        "        # Calculate attention weights from the current GRU output\n",
        "        attn_weights = self.attn(rnn_output, encoder_outputs)\n",
        "        # Multiply attention weights to encoder outputs to get new \"weighted sum\" context vector\n",
        "        context = attn_weights.bmm(encoder_outputs.transpose(0, 1))\n",
        "        # Concatenate weighted context vector and GRU output using Luong eq. 5\n",
        "        rnn_output = rnn_output.squeeze(0)\n",
        "        context = context.squeeze(1)\n",
        "        concat_input = torch.cat((rnn_output, context), 1)\n",
        "        concat_output = torch.tanh(self.concat(concat_input))\n",
        "        # Predict next word using Luong eq. 6\n",
        "        output = self.out(concat_output)\n",
        "        output = F.softmax(output, dim=1)\n",
        "        # Return output and final hidden state\n",
        "        return output, hidden"
      ]
    },
    {
      "cell_type": "markdown",
      "metadata": {
        "id": "30cWuPrejjtU"
      },
      "source": [
        "Define Training Procedure\n",
        "=========================\n",
        "\n",
        "Masked loss\n",
        "-----------\n",
        "\n",
        "Since we are dealing with batches of padded sequences, we cannot simply\n",
        "consider all elements of the tensor when calculating loss. We define\n",
        "`maskNLLLoss` to calculate our loss based on our decoder's output\n",
        "tensor, the target tensor, and a binary mask tensor describing the\n",
        "padding of the target tensor. This loss function calculates the average\n",
        "negative log likelihood of the elements that correspond to a *1* in the\n",
        "mask tensor.\n"
      ]
    },
    {
      "cell_type": "code",
      "execution_count": 21,
      "metadata": {
        "id": "hEC2s07vjjtU"
      },
      "outputs": [],
      "source": [
        "def maskNLLLoss(inp, target, mask):\n",
        "    nTotal = mask.sum()\n",
        "    crossEntropy = -torch.log(torch.gather(inp, 1, target.view(-1, 1)).squeeze(1))\n",
        "    loss = crossEntropy.masked_select(mask).mean()\n",
        "    loss = loss.to(device)\n",
        "    return loss, nTotal.item()"
      ]
    },
    {
      "cell_type": "markdown",
      "metadata": {
        "id": "305C0E9mjjtU"
      },
      "source": [
        "Single training iteration\n",
        "=========================\n",
        "\n",
        "The `train` function contains the algorithm for a single training\n",
        "iteration (a single batch of inputs).\n",
        "\n",
        "We will use a couple of clever tricks to aid in convergence:\n",
        "\n",
        "-   The first trick is using **teacher forcing**. This means that at\n",
        "    some probability, set by `teacher_forcing_ratio`, we use the current\n",
        "    target word as the decoder's next input rather than using the\n",
        "    decoder's current guess. This technique acts as training wheels for\n",
        "    the decoder, aiding in more efficient training. However, teacher\n",
        "    forcing can lead to model instability during inference, as the\n",
        "    decoder may not have a sufficient chance to truly craft its own\n",
        "    output sequences during training. Thus, we must be mindful of how we\n",
        "    are setting the `teacher_forcing_ratio`, and not be fooled by fast\n",
        "    convergence.\n",
        "-   The second trick that we implement is **gradient clipping**. This is\n",
        "    a commonly used technique for countering the \"exploding gradient\"\n",
        "    problem. In essence, by clipping or thresholding gradients to a\n",
        "    maximum value, we prevent the gradients from growing exponentially\n",
        "    and either overflow (NaN), or overshoot steep cliffs in the cost\n",
        "    function.\n",
        "\n",
        "![](https://pytorch.org/tutorials/_static/img/chatbot/grad_clip.png){.align-center\n",
        "width=\"60.0%\"}\n",
        "\n",
        "Image source: Goodfellow et al. *Deep Learning*. 2016.\n",
        "<https://www.deeplearningbook.org/>\n",
        "\n",
        "**Sequence of Operations:**\n",
        "\n",
        "> 1)  Forward pass entire input batch through encoder.\n",
        "> 2)  Initialize decoder inputs as SOS\\_token, and hidden state as the\n",
        ">     encoder\\'s final hidden state.\n",
        "> 3)  Forward input batch sequence through decoder one time step at a\n",
        ">     time.\n",
        "> 4)  If teacher forcing: set next decoder input as the current target;\n",
        ">     else: set next decoder input as current decoder output.\n",
        "> 5)  Calculate and accumulate loss.\n",
        "> 6)  Perform backpropagation.\n",
        "> 7)  Clip gradients.\n",
        "> 8)  Update encoder and decoder model parameters.\n"
      ]
    },
    {
      "cell_type": "code",
      "execution_count": 22,
      "metadata": {
        "id": "iVPpBsX8jjtU"
      },
      "outputs": [],
      "source": [
        "def train(input_variable, lengths, target_variable, mask, max_target_len, encoder, decoder, embedding,\n",
        "          encoder_optimizer, decoder_optimizer, batch_size, clip, teacher_forcing_ratio, max_length=MAX_LENGTH):\n",
        "\n",
        "    # Zero gradients\n",
        "    encoder_optimizer.zero_grad()\n",
        "    decoder_optimizer.zero_grad()\n",
        "\n",
        "    # Set device options\n",
        "    input_variable = input_variable.to(device)\n",
        "    target_variable = target_variable.to(device)\n",
        "    mask = mask.to(device)\n",
        "    # Lengths for RNN packing should always be on the CPU\n",
        "    lengths = lengths.to(\"cpu\")\n",
        "\n",
        "    # Initialize variables\n",
        "    loss = 0\n",
        "    print_losses = []\n",
        "    n_totals = 0\n",
        "\n",
        "    # Forward pass through encoder\n",
        "    encoder_outputs, encoder_hidden = encoder(input_variable, lengths)\n",
        "\n",
        "    # Create initial decoder input (start with SOS tokens for each sentence)\n",
        "    decoder_input = torch.LongTensor([[SOS_token for _ in range(batch_size)]])\n",
        "    decoder_input = decoder_input.to(device)\n",
        "\n",
        "    # Set initial decoder hidden state to the encoder's final hidden state\n",
        "    decoder_hidden = encoder_hidden[:decoder.n_layers]\n",
        "\n",
        "    # Determine if we are using teacher forcing this iteration\n",
        "    use_teacher_forcing = True if random.random() < teacher_forcing_ratio else False\n",
        "\n",
        "    # Forward batch of sequences through decoder one time step at a time\n",
        "    if use_teacher_forcing:\n",
        "        for t in range(max_target_len):\n",
        "            decoder_output, decoder_hidden = decoder(\n",
        "                decoder_input, decoder_hidden, encoder_outputs\n",
        "            )\n",
        "            # Teacher forcing: next input is current target\n",
        "            decoder_input = target_variable[t].view(1, -1)\n",
        "            # Calculate and accumulate loss\n",
        "            mask_loss, nTotal = maskNLLLoss(decoder_output, target_variable[t], mask[t])\n",
        "            loss += mask_loss\n",
        "            print_losses.append(mask_loss.item() * nTotal)\n",
        "            n_totals += nTotal\n",
        "    else:\n",
        "        for t in range(max_target_len):\n",
        "            decoder_output, decoder_hidden = decoder(\n",
        "                decoder_input, decoder_hidden, encoder_outputs\n",
        "            )\n",
        "            # No teacher forcing: next input is decoder's own current output\n",
        "            _, topi = decoder_output.topk(1)\n",
        "            decoder_input = torch.LongTensor([[topi[i][0] for i in range(batch_size)]])\n",
        "            decoder_input = decoder_input.to(device)\n",
        "            # Calculate and accumulate loss\n",
        "            mask_loss, nTotal = maskNLLLoss(decoder_output, target_variable[t], mask[t])\n",
        "            loss += mask_loss\n",
        "            print_losses.append(mask_loss.item() * nTotal)\n",
        "            n_totals += nTotal\n",
        "\n",
        "    # Perform backpropagation\n",
        "    loss.backward()\n",
        "\n",
        "    # Clip gradients: gradients are modified in place\n",
        "    _ = nn.utils.clip_grad_norm_(encoder.parameters(), clip)\n",
        "    _ = nn.utils.clip_grad_norm_(decoder.parameters(), clip)\n",
        "\n",
        "    # Adjust model weights\n",
        "    encoder_optimizer.step()\n",
        "    decoder_optimizer.step()\n",
        "\n",
        "    return sum(print_losses) / n_totals"
      ]
    },
    {
      "cell_type": "markdown",
      "metadata": {
        "id": "SzpPc9JFjjtU"
      },
      "source": [
        "Training iterations\n",
        "===================\n",
        "\n",
        "It is finally time to tie the full training procedure together with the\n",
        "data. The `trainIters` function is responsible for running\n",
        "`n_iterations` of training given the passed models, optimizers, data,\n",
        "etc. This function is quite self explanatory, as we have done the heavy\n",
        "lifting with the `train` function.\n",
        "\n",
        "One thing to note is that when we save our model, we save a tarball\n",
        "containing the encoder and decoder `state_dicts` (parameters), the\n",
        "optimizers' `state_dicts`, the loss, the iteration, etc. Saving the\n",
        "model in this way will give us the ultimate flexibility with the\n",
        "checkpoint. After loading a checkpoint, we will be able to use the model\n",
        "parameters to run inference, or we can continue training right where we\n",
        "left off.\n"
      ]
    },
    {
      "cell_type": "code",
      "execution_count": 23,
      "metadata": {
        "id": "V_I7GqASjjtV"
      },
      "outputs": [],
      "source": [
        "def trainIters(model_name, voc, pairs, encoder, decoder, encoder_optimizer, decoder_optimizer, embedding, hidden_size, encoder_n_layers, decoder_n_layers, save_dir, n_iteration, batch_size, print_every, save_every, clip, teacher_forcing_ratio, corpus_name, loadFilename):\n",
        "\n",
        "    # Load batches for each iteration\n",
        "    training_batches = [batch2TrainData(voc, [random.choice(pairs) for _ in range(batch_size)])\n",
        "                      for _ in range(n_iteration)]\n",
        "\n",
        "    # Initializations\n",
        "    print('Initializing ...')\n",
        "    start_iteration = 1\n",
        "    print_loss = 0\n",
        "    if loadFilename:\n",
        "        start_iteration = checkpoint['iteration'] + 1\n",
        "\n",
        "    # Training loop\n",
        "    print(\"Training...\")\n",
        "    for iteration in range(start_iteration, n_iteration + 1):\n",
        "        training_batch = training_batches[iteration - 1]\n",
        "        # Extract fields from batch\n",
        "        input_variable, lengths, target_variable, mask, max_target_len = training_batch\n",
        "\n",
        "        # Run a training iteration with batch\n",
        "        loss = train(input_variable, lengths, target_variable, mask, max_target_len, encoder,\n",
        "                     decoder, embedding, encoder_optimizer, decoder_optimizer, batch_size, clip, teacher_forcing_ratio)\n",
        "        print_loss += loss\n",
        "\n",
        "        # Print progress\n",
        "        if iteration % print_every == 0:\n",
        "            print_loss_avg = print_loss / print_every\n",
        "            print(\"Iteration: {}; Percent complete: {:.1f}%; Average loss: {:.4f}\".format(iteration, iteration / n_iteration * 100, print_loss_avg))\n",
        "\n",
        "            wandb.log({\"loss\": print_loss_avg})\n",
        "\n",
        "            print_loss = 0\n",
        "\n",
        "        # Save checkpoint\n",
        "        if (iteration % save_every == 0):\n",
        "            directory = os.path.join(save_dir, model_name, corpus_name, '{}-{}_{}'.format(encoder_n_layers, decoder_n_layers, hidden_size))\n",
        "            if not os.path.exists(directory):\n",
        "                os.makedirs(directory)\n",
        "            torch.save({\n",
        "                'iteration': iteration,\n",
        "                'en': encoder.state_dict(),\n",
        "                'de': decoder.state_dict(),\n",
        "                'en_opt': encoder_optimizer.state_dict(),\n",
        "                'de_opt': decoder_optimizer.state_dict(),\n",
        "                'loss': loss,\n",
        "                'voc_dict': voc.__dict__,\n",
        "                'embedding': embedding.state_dict()\n",
        "            }, os.path.join(directory, '{}_{}.tar'.format(iteration, 'checkpoint')))"
      ]
    },
    {
      "cell_type": "markdown",
      "source": [
        "###Modified Code"
      ],
      "metadata": {
        "id": "t0K7v4GQqbCj"
      }
    },
    {
      "cell_type": "code",
      "source": [
        "def run_sweep_iteration():\n",
        "    with wandb.init() as run:\n",
        "        config = wandb.config\n",
        "\n",
        "        model_name = 'cb_model'\n",
        "        attn_model = 'dot'\n",
        "        hidden_size = 500\n",
        "        encoder_n_layers = 2\n",
        "        decoder_n_layers = 2\n",
        "        dropout = 0.1\n",
        "        batch_size = 64\n",
        "        loadFilename = None\n",
        "\n",
        "        embedding = nn.Embedding(voc.num_words, hidden_size)\n",
        "        encoder = EncoderRNN(hidden_size, embedding, encoder_n_layers, dropout)\n",
        "        decoder = LuongAttnDecoderRNN(attn_model, embedding, hidden_size, voc.num_words, decoder_n_layers, dropout)\n",
        "        encoder = encoder.to(device)\n",
        "        decoder = decoder.to(device)\n",
        "\n",
        "        clip = config.clip\n",
        "        teacher_forcing_ratio = config.teacher_forcing_ratio\n",
        "        learning_rate = config.learning_rate\n",
        "        decoder_learning_ratio = config.decoder_learning_ratio\n",
        "\n",
        "        n_iteration = 4000\n",
        "        print_every = 100\n",
        "        save_every = 4000\n",
        "\n",
        "        encoder.train()\n",
        "        decoder.train()\n",
        "\n",
        "        print(f\"Using optimizer: {config.optimizer}\")\n",
        "        if config.optimizer == 'adam':\n",
        "            encoder_optimizer = optim.Adam(encoder.parameters(), lr=learning_rate)\n",
        "            decoder_optimizer = optim.Adam(decoder.parameters(), lr=learning_rate * decoder_learning_ratio)\n",
        "        else:\n",
        "            encoder_optimizer = optim.SGD(encoder.parameters(), lr=learning_rate)\n",
        "            decoder_optimizer = optim.SGD(decoder.parameters(), lr=learning_rate * decoder_learning_ratio)\n",
        "\n",
        "        for state in encoder_optimizer.state.values():\n",
        "            for k, v in state.items():\n",
        "                if isinstance(v, torch.Tensor):\n",
        "                    state[k] = v.to(device)\n",
        "        for state in decoder_optimizer.state.values():\n",
        "            for k, v in state.items():\n",
        "                if isinstance(v, torch.Tensor):\n",
        "                    state[k] = v.to(device)\n",
        "\n",
        "        print(\"Starting Training for one sweep iteration!\")\n",
        "        trainIters(model_name, voc, pairs, encoder, decoder, encoder_optimizer, decoder_optimizer,\n",
        "                   embedding, hidden_size, encoder_n_layers, decoder_n_layers, save_dir, n_iteration, batch_size,\n",
        "                   print_every, save_every, clip, teacher_forcing_ratio, corpus_name, loadFilename)"
      ],
      "metadata": {
        "id": "1JiX7PWS64lb"
      },
      "execution_count": 24,
      "outputs": []
    },
    {
      "cell_type": "markdown",
      "metadata": {
        "id": "XaXAAXVxjjtV"
      },
      "source": [
        "Define Evaluation\n",
        "=================\n",
        "\n",
        "After training a model, we want to be able to talk to the bot ourselves.\n",
        "First, we must define how we want the model to decode the encoded input.\n",
        "\n",
        "Greedy decoding\n",
        "---------------\n",
        "\n",
        "Greedy decoding is the decoding method that we use during training when\n",
        "we are **NOT** using teacher forcing. In other words, for each time\n",
        "step, we simply choose the word from `decoder_output` with the highest\n",
        "softmax value. This decoding method is optimal on a single time-step\n",
        "level.\n",
        "\n",
        "To facilitate the greedy decoding operation, we define a\n",
        "`GreedySearchDecoder` class. When run, an object of this class takes an\n",
        "input sequence (`input_seq`) of shape *(input\\_seq length, 1)*, a scalar\n",
        "input length (`input_length`) tensor, and a `max_length` to bound the\n",
        "response sentence length. The input sentence is evaluated using the\n",
        "following computational graph:\n",
        "\n",
        "**Computation Graph:**\n",
        "\n",
        "> 1)  Forward input through encoder model.\n",
        ">\n",
        "> 2)  Prepare encoder\\'s final hidden layer to be first hidden input to\n",
        ">     the decoder.\n",
        ">\n",
        "> 3)  Initialize decoder\\'s first input as SOS\\_token.\n",
        ">\n",
        "> 4)  Initialize tensors to append decoded words to.\n",
        ">\n",
        "> 5)  \n",
        ">\n",
        ">     Iteratively decode one word token at a time:\n",
        ">\n",
        ">     :   a)  Forward pass through decoder.\n",
        ">         b)  Obtain most likely word token and its softmax score.\n",
        ">         c)  Record token and score.\n",
        ">         d)  Prepare current token to be next decoder input.\n",
        ">\n",
        "> 6)  Return collections of word tokens and scores.\n"
      ]
    },
    {
      "cell_type": "code",
      "execution_count": 25,
      "metadata": {
        "id": "HhpmRc1-jjtV"
      },
      "outputs": [],
      "source": [
        "class GreedySearchDecoder(nn.Module):\n",
        "    def __init__(self, encoder, decoder):\n",
        "        super(GreedySearchDecoder, self).__init__()\n",
        "        self.encoder = encoder\n",
        "        self.decoder = decoder\n",
        "\n",
        "    def forward(self, input_seq, input_length, max_length):\n",
        "        # Forward input through encoder model\n",
        "        encoder_outputs, encoder_hidden = self.encoder(input_seq, input_length)\n",
        "        # Prepare encoder's final hidden layer to be first hidden input to the decoder\n",
        "        decoder_hidden = encoder_hidden[:self.decoder.n_layers]\n",
        "        # Initialize decoder input with SOS_token\n",
        "        decoder_input = torch.ones(1, 1, device=device, dtype=torch.long) * SOS_token\n",
        "        # Initialize tensors to append decoded words to\n",
        "        all_tokens = torch.zeros([0], device=device, dtype=torch.long)\n",
        "        all_scores = torch.zeros([0], device=device)\n",
        "        # Iteratively decode one word token at a time\n",
        "        for _ in range(max_length):\n",
        "            # Forward pass through decoder\n",
        "            decoder_output, decoder_hidden = self.decoder(decoder_input, decoder_hidden, encoder_outputs)\n",
        "            # Obtain most likely word token and its softmax score\n",
        "            decoder_scores, decoder_input = torch.max(decoder_output, dim=1)\n",
        "            # Record token and score\n",
        "            all_tokens = torch.cat((all_tokens, decoder_input), dim=0)\n",
        "            all_scores = torch.cat((all_scores, decoder_scores), dim=0)\n",
        "            # Prepare current token to be next decoder input (add a dimension)\n",
        "            decoder_input = torch.unsqueeze(decoder_input, 0)\n",
        "        # Return collections of word tokens and scores\n",
        "        return all_tokens, all_scores"
      ]
    },
    {
      "cell_type": "markdown",
      "metadata": {
        "id": "qj0I_DZwjjtV"
      },
      "source": [
        "Evaluate my text\n",
        "================\n",
        "\n",
        "Now that we have our decoding method defined, we can write functions for\n",
        "evaluating a string input sentence. The `evaluate` function manages the\n",
        "low-level process of handling the input sentence. We first format the\n",
        "sentence as an input batch of word indexes with *batch\\_size==1*. We do\n",
        "this by converting the words of the sentence to their corresponding\n",
        "indexes, and transposing the dimensions to prepare the tensor for our\n",
        "models. We also create a `lengths` tensor which contains the length of\n",
        "our input sentence. In this case, `lengths` is scalar because we are\n",
        "only evaluating one sentence at a time (batch\\_size==1). Next, we obtain\n",
        "the decoded response sentence tensor using our `GreedySearchDecoder`\n",
        "object (`searcher`). Finally, we convert the response's indexes to words\n",
        "and return the list of decoded words.\n",
        "\n",
        "`evaluateInput` acts as the user interface for our chatbot. When called,\n",
        "an input text field will spawn in which we can enter our query sentence.\n",
        "After typing our input sentence and pressing *Enter*, our text is\n",
        "normalized in the same way as our training data, and is ultimately fed\n",
        "to the `evaluate` function to obtain a decoded output sentence. We loop\n",
        "this process, so we can keep chatting with our bot until we enter either\n",
        "\"q\" or \"quit\".\n",
        "\n",
        "Finally, if a sentence is entered that contains a word that is not in\n",
        "the vocabulary, we handle this gracefully by printing an error message\n",
        "and prompting the user to enter another sentence.\n"
      ]
    },
    {
      "cell_type": "code",
      "execution_count": 26,
      "metadata": {
        "id": "TpglaG0ujjtW"
      },
      "outputs": [],
      "source": [
        "def evaluate(encoder, decoder, searcher, voc, sentence, max_length=MAX_LENGTH):\n",
        "    ### Format input sentence as a batch\n",
        "    # words -> indexes\n",
        "    indexes_batch = [indexesFromSentence(voc, sentence)]\n",
        "    # Create lengths tensor\n",
        "    lengths = torch.tensor([len(indexes) for indexes in indexes_batch])\n",
        "    # Transpose dimensions of batch to match models' expectations\n",
        "    input_batch = torch.LongTensor(indexes_batch).transpose(0, 1)\n",
        "    # Use appropriate device\n",
        "    input_batch = input_batch.to(device)\n",
        "    lengths = lengths.to(\"cpu\")\n",
        "    # Decode sentence with searcher\n",
        "    tokens, scores = searcher(input_batch, lengths, max_length)\n",
        "    # indexes -> words\n",
        "    decoded_words = [voc.index2word[token.item()] for token in tokens]\n",
        "    return decoded_words\n",
        "\n",
        "\n",
        "def evaluateInput(encoder, decoder, searcher, voc):\n",
        "    input_sentence = ''\n",
        "    while(1):\n",
        "        try:\n",
        "            # Get input sentence\n",
        "            input_sentence = input('> ')\n",
        "            # Check if it is quit case\n",
        "            if input_sentence == 'q' or input_sentence == 'quit': break\n",
        "            # Normalize sentence\n",
        "            input_sentence = normalizeString(input_sentence)\n",
        "            # Evaluate sentence\n",
        "            output_words = evaluate(encoder, decoder, searcher, voc, input_sentence)\n",
        "            # Format and print response sentence\n",
        "            output_words[:] = [x for x in output_words if not (x == 'EOS' or x == 'PAD')]\n",
        "            print('Bot:', ' '.join(output_words))\n",
        "\n",
        "        except KeyError:\n",
        "            print(\"Error: Encountered unknown word.\")"
      ]
    },
    {
      "cell_type": "markdown",
      "metadata": {
        "id": "cUcBB7oQjjtW"
      },
      "source": [
        "Run Model\n",
        "=========\n",
        "\n",
        "Finally, it is time to run our model!\n",
        "\n",
        "Regardless of whether we want to train or test the chatbot model, we\n",
        "must initialize the individual encoder and decoder models. In the\n",
        "following block, we set our desired configurations, choose to start from\n",
        "scratch or set a checkpoint to load from, and build and initialize the\n",
        "models. Feel free to play with different model configurations to\n",
        "optimize performance.\n"
      ]
    },
    {
      "cell_type": "code",
      "execution_count": 27,
      "metadata": {
        "id": "3jzzXZTSjjtW"
      },
      "outputs": [],
      "source": [
        "# # Configure models\n",
        "# model_name = 'cb_model'\n",
        "# attn_model = 'dot'\n",
        "# #``attn_model = 'general'``\n",
        "# #``attn_model = 'concat'``\n",
        "# hidden_size = 500\n",
        "# encoder_n_layers = 2\n",
        "# decoder_n_layers = 2\n",
        "# dropout = 0.1\n",
        "# batch_size = 64\n",
        "\n",
        "# # Set checkpoint to load from; set to None if starting from scratch\n",
        "# loadFilename = None\n",
        "# checkpoint_iter = 4000"
      ]
    },
    {
      "cell_type": "markdown",
      "metadata": {
        "id": "ScR1-iRfjjtW"
      },
      "source": [
        "Sample code to load from a checkpoint:\n",
        "\n",
        "``` {.python}\n",
        "loadFilename = os.path.join(save_dir, model_name, corpus_name,\n",
        "                    '{}-{}_{}'.format(encoder_n_layers, decoder_n_layers, hidden_size),\n",
        "                    '{}_checkpoint.tar'.format(checkpoint_iter))\n",
        "```\n"
      ]
    },
    {
      "cell_type": "code",
      "execution_count": 28,
      "metadata": {
        "id": "VLj0ZYtyjjtc"
      },
      "outputs": [],
      "source": [
        "# # Load model if a ``loadFilename`` is provided\n",
        "# if loadFilename:\n",
        "#     # If loading on same machine the model was trained on\n",
        "#     checkpoint = torch.load(loadFilename)\n",
        "#     # If loading a model trained on GPU to CPU\n",
        "#     #checkpoint = torch.load(loadFilename, map_location=torch.device('cpu'))\n",
        "#     encoder_sd = checkpoint['en']\n",
        "#     decoder_sd = checkpoint['de']\n",
        "#     encoder_optimizer_sd = checkpoint['en_opt']\n",
        "#     decoder_optimizer_sd = checkpoint['de_opt']\n",
        "#     embedding_sd = checkpoint['embedding']\n",
        "#     voc.__dict__ = checkpoint['voc_dict']\n",
        "\n",
        "\n",
        "# print('Building encoder and decoder ...')\n",
        "# # Initialize word embeddings\n",
        "# embedding = nn.Embedding(voc.num_words, hidden_size)\n",
        "# if loadFilename:\n",
        "#     embedding.load_state_dict(embedding_sd)\n",
        "# # Initialize encoder & decoder models\n",
        "# encoder = EncoderRNN(hidden_size, embedding, encoder_n_layers, dropout)\n",
        "# decoder = LuongAttnDecoderRNN(attn_model, embedding, hidden_size, voc.num_words, decoder_n_layers, dropout)\n",
        "# if loadFilename:\n",
        "#     encoder.load_state_dict(encoder_sd)\n",
        "#     decoder.load_state_dict(decoder_sd)\n",
        "# # Use appropriate device\n",
        "# encoder = encoder.to(device)\n",
        "# decoder = decoder.to(device)\n",
        "# print('Models built and ready to go!')"
      ]
    },
    {
      "cell_type": "markdown",
      "metadata": {
        "id": "GmmoOZwKjjtc"
      },
      "source": [
        "Run Training\n",
        "============\n",
        "\n",
        "Run the following block if you want to train the model.\n",
        "\n",
        "First we set training parameters, then we initialize our optimizers, and\n",
        "finally we call the `trainIters` function to run our training\n",
        "iterations.\n"
      ]
    },
    {
      "cell_type": "code",
      "execution_count": 29,
      "metadata": {
        "id": "Qz63R6nFjjtc"
      },
      "outputs": [],
      "source": [
        "# # Configure training/optimization\n",
        "# clip = 50.0\n",
        "# teacher_forcing_ratio = 1.0\n",
        "# learning_rate = 0.0001\n",
        "# decoder_learning_ratio = 5.0\n",
        "# n_iteration = 4000\n",
        "# print_every = 1\n",
        "# save_every = 500\n",
        "\n",
        "# # Ensure dropout layers are in train mode\n",
        "# encoder.train()\n",
        "# decoder.train()\n",
        "\n",
        "# # Initialize optimizers\n",
        "# print('Building optimizers ...')\n",
        "# encoder_optimizer = optim.Adam(encoder.parameters(), lr=learning_rate)\n",
        "# decoder_optimizer = optim.Adam(decoder.parameters(), lr=learning_rate * decoder_learning_ratio)\n",
        "# if loadFilename:\n",
        "#     encoder_optimizer.load_state_dict(encoder_optimizer_sd)\n",
        "#     decoder_optimizer.load_state_dict(decoder_optimizer_sd)\n",
        "\n",
        "# # If you have an accelerator, configure it to call\n",
        "# for state in encoder_optimizer.state.values():\n",
        "#     for k, v in state.items():\n",
        "#         if isinstance(v, torch.Tensor):\n",
        "#             state[k] = v.to(device)\n",
        "\n",
        "# for state in decoder_optimizer.state.values():\n",
        "#     for k, v in state.items():\n",
        "#         if isinstance(v, torch.Tensor):\n",
        "#             state[k] = v.to(device)\n",
        "\n",
        "# # Run training iterations\n",
        "# print(\"Starting Training!\")\n",
        "# trainIters(model_name, voc, pairs, encoder, decoder, encoder_optimizer, decoder_optimizer,\n",
        "#            embedding, encoder_n_layers, decoder_n_layers, save_dir, n_iteration, batch_size,\n",
        "#            print_every, save_every, clip, corpus_name, loadFilename)"
      ]
    },
    {
      "cell_type": "markdown",
      "metadata": {
        "id": "Ydy2KW5Jjjtc"
      },
      "source": [
        "Run Evaluation\n",
        "==============\n",
        "\n",
        "To chat with your model, run the following block.\n"
      ]
    },
    {
      "cell_type": "code",
      "execution_count": 30,
      "metadata": {
        "id": "2CJqAOPzjjtc"
      },
      "outputs": [],
      "source": [
        "# # Set dropout layers to ``eval`` mode\n",
        "# encoder.eval()\n",
        "# decoder.eval()\n",
        "\n",
        "# # Initialize search module\n",
        "# searcher = GreedySearchDecoder(encoder, decoder)\n",
        "\n",
        "# # Begin chatting (uncomment and run the following line to begin)\n",
        "# # evaluateInput(encoder, decoder, searcher, voc)"
      ]
    },
    {
      "cell_type": "code",
      "source": [
        "# 1. Define the sweep configuration (Problem 5.3)\n",
        "sweep_config = {\n",
        "    'method': 'random',\n",
        "    'metric': {\n",
        "      'name': 'loss',\n",
        "      'goal': 'minimize'\n",
        "    },\n",
        "    'parameters': {\n",
        "        'learning_rate': {\n",
        "            'values': [0.0001, 0.00025, 0.0005, 0.001]\n",
        "        },\n",
        "        'optimizer': {\n",
        "            'values': ['adam', 'sgd']\n",
        "        },\n",
        "        'clip': {\n",
        "            'values': [0, 25, 50, 100]\n",
        "        },\n",
        "        'teacher_forcing_ratio': {\n",
        "            'values': [0, 0.5, 1.0]\n",
        "        },\n",
        "        'decoder_learning_ratio': {\n",
        "            'values': [1.0, 3.0, 5.0, 10.0]\n",
        "        }\n",
        "    }\n",
        "}\n",
        "\n",
        "# 2. Initialize the sweep\n",
        "sweep_id = wandb.sweep(sweep_config, project=\"chatbot-hyperparameter-sweep\")\n",
        "\n",
        "# 3. Run the sweep agent (Problem 5.4)\n",
        "# Calls `run_sweep_iteration` function `count` times.\n",
        "wandb.agent(sweep_id, function=run_sweep_iteration, count=10)"
      ],
      "metadata": {
        "colab": {
          "base_uri": "https://localhost:8080/",
          "height": 1000
        },
        "id": "UYmnc2CW8UZI",
        "outputId": "ef811328-402f-47c5-fd76-58e48a826fcd"
      },
      "execution_count": 31,
      "outputs": [
        {
          "output_type": "stream",
          "name": "stdout",
          "text": [
            "Create sweep with ID: 7p21fix1\n",
            "Sweep URL: https://wandb.ai/amanupg-columbia-university/chatbot-hyperparameter-sweep/sweeps/7p21fix1\n"
          ]
        },
        {
          "output_type": "stream",
          "name": "stderr",
          "text": [
            "\u001b[34m\u001b[1mwandb\u001b[0m: Agent Starting Run: lwy6v2uw with config:\n",
            "\u001b[34m\u001b[1mwandb\u001b[0m: \tclip: 50\n",
            "\u001b[34m\u001b[1mwandb\u001b[0m: \tdecoder_learning_ratio: 1\n",
            "\u001b[34m\u001b[1mwandb\u001b[0m: \tlearning_rate: 0.0005\n",
            "\u001b[34m\u001b[1mwandb\u001b[0m: \toptimizer: sgd\n",
            "\u001b[34m\u001b[1mwandb\u001b[0m: \tteacher_forcing_ratio: 0.5\n"
          ]
        },
        {
          "output_type": "display_data",
          "data": {
            "text/plain": [
              "<IPython.core.display.HTML object>"
            ],
            "text/html": []
          },
          "metadata": {}
        },
        {
          "output_type": "display_data",
          "data": {
            "text/plain": [
              "<IPython.core.display.HTML object>"
            ],
            "text/html": [
              "Tracking run with wandb version 0.21.4"
            ]
          },
          "metadata": {}
        },
        {
          "output_type": "display_data",
          "data": {
            "text/plain": [
              "<IPython.core.display.HTML object>"
            ],
            "text/html": [
              "Run data is saved locally in <code>/content/wandb/run-20251002_085706-lwy6v2uw</code>"
            ]
          },
          "metadata": {}
        },
        {
          "output_type": "display_data",
          "data": {
            "text/plain": [
              "<IPython.core.display.HTML object>"
            ],
            "text/html": [
              "Syncing run <strong><a href='https://wandb.ai/amanupg-columbia-university/chatbot-hyperparameter-sweep/runs/lwy6v2uw' target=\"_blank\">vivid-sweep-1</a></strong> to <a href='https://wandb.ai/amanupg-columbia-university/chatbot-hyperparameter-sweep' target=\"_blank\">Weights & Biases</a> (<a href='https://wandb.me/developer-guide' target=\"_blank\">docs</a>)<br>Sweep page: <a href='https://wandb.ai/amanupg-columbia-university/chatbot-hyperparameter-sweep/sweeps/7p21fix1' target=\"_blank\">https://wandb.ai/amanupg-columbia-university/chatbot-hyperparameter-sweep/sweeps/7p21fix1</a>"
            ]
          },
          "metadata": {}
        },
        {
          "output_type": "display_data",
          "data": {
            "text/plain": [
              "<IPython.core.display.HTML object>"
            ],
            "text/html": [
              " View project at <a href='https://wandb.ai/amanupg-columbia-university/chatbot-hyperparameter-sweep' target=\"_blank\">https://wandb.ai/amanupg-columbia-university/chatbot-hyperparameter-sweep</a>"
            ]
          },
          "metadata": {}
        },
        {
          "output_type": "display_data",
          "data": {
            "text/plain": [
              "<IPython.core.display.HTML object>"
            ],
            "text/html": [
              " View sweep at <a href='https://wandb.ai/amanupg-columbia-university/chatbot-hyperparameter-sweep/sweeps/7p21fix1' target=\"_blank\">https://wandb.ai/amanupg-columbia-university/chatbot-hyperparameter-sweep/sweeps/7p21fix1</a>"
            ]
          },
          "metadata": {}
        },
        {
          "output_type": "display_data",
          "data": {
            "text/plain": [
              "<IPython.core.display.HTML object>"
            ],
            "text/html": [
              " View run at <a href='https://wandb.ai/amanupg-columbia-university/chatbot-hyperparameter-sweep/runs/lwy6v2uw' target=\"_blank\">https://wandb.ai/amanupg-columbia-university/chatbot-hyperparameter-sweep/runs/lwy6v2uw</a>"
            ]
          },
          "metadata": {}
        },
        {
          "output_type": "stream",
          "name": "stdout",
          "text": [
            "Using optimizer: sgd\n",
            "Starting Training for one sweep iteration!\n",
            "Initializing ...\n",
            "Training...\n",
            "Iteration: 100; Percent complete: 2.5%; Average loss: 8.8180\n",
            "Iteration: 200; Percent complete: 5.0%; Average loss: 7.5277\n",
            "Iteration: 300; Percent complete: 7.5%; Average loss: 6.6408\n",
            "Iteration: 400; Percent complete: 10.0%; Average loss: 6.3391\n",
            "Iteration: 500; Percent complete: 12.5%; Average loss: 6.1161\n",
            "Iteration: 600; Percent complete: 15.0%; Average loss: 5.9661\n",
            "Iteration: 700; Percent complete: 17.5%; Average loss: 5.7967\n",
            "Iteration: 800; Percent complete: 20.0%; Average loss: 5.6716\n",
            "Iteration: 900; Percent complete: 22.5%; Average loss: 5.5693\n",
            "Iteration: 1000; Percent complete: 25.0%; Average loss: 5.5000\n",
            "Iteration: 1100; Percent complete: 27.5%; Average loss: 5.4328\n",
            "Iteration: 1200; Percent complete: 30.0%; Average loss: 5.3304\n",
            "Iteration: 1300; Percent complete: 32.5%; Average loss: 5.3012\n",
            "Iteration: 1400; Percent complete: 35.0%; Average loss: 5.2450\n",
            "Iteration: 1500; Percent complete: 37.5%; Average loss: 5.2001\n",
            "Iteration: 1600; Percent complete: 40.0%; Average loss: 5.1798\n",
            "Iteration: 1700; Percent complete: 42.5%; Average loss: 5.1477\n",
            "Iteration: 1800; Percent complete: 45.0%; Average loss: 5.1017\n",
            "Iteration: 1900; Percent complete: 47.5%; Average loss: 5.0716\n",
            "Iteration: 2000; Percent complete: 50.0%; Average loss: 5.0593\n",
            "Iteration: 2100; Percent complete: 52.5%; Average loss: 5.0408\n",
            "Iteration: 2200; Percent complete: 55.0%; Average loss: 5.0067\n",
            "Iteration: 2300; Percent complete: 57.5%; Average loss: 4.9833\n",
            "Iteration: 2400; Percent complete: 60.0%; Average loss: 4.9630\n",
            "Iteration: 2500; Percent complete: 62.5%; Average loss: 4.9699\n",
            "Iteration: 2600; Percent complete: 65.0%; Average loss: 4.9589\n",
            "Iteration: 2700; Percent complete: 67.5%; Average loss: 4.9499\n",
            "Iteration: 2800; Percent complete: 70.0%; Average loss: 4.9308\n",
            "Iteration: 2900; Percent complete: 72.5%; Average loss: 4.9263\n",
            "Iteration: 3000; Percent complete: 75.0%; Average loss: 4.9092\n",
            "Iteration: 3100; Percent complete: 77.5%; Average loss: 4.8984\n",
            "Iteration: 3200; Percent complete: 80.0%; Average loss: 4.8942\n",
            "Iteration: 3300; Percent complete: 82.5%; Average loss: 4.8909\n",
            "Iteration: 3400; Percent complete: 85.0%; Average loss: 4.8781\n",
            "Iteration: 3500; Percent complete: 87.5%; Average loss: 4.8549\n",
            "Iteration: 3600; Percent complete: 90.0%; Average loss: 4.8810\n",
            "Iteration: 3700; Percent complete: 92.5%; Average loss: 4.8727\n",
            "Iteration: 3800; Percent complete: 95.0%; Average loss: 4.8520\n",
            "Iteration: 3900; Percent complete: 97.5%; Average loss: 4.8316\n",
            "Iteration: 4000; Percent complete: 100.0%; Average loss: 4.8576\n"
          ]
        },
        {
          "output_type": "display_data",
          "data": {
            "text/plain": [
              "<IPython.core.display.HTML object>"
            ],
            "text/html": []
          },
          "metadata": {}
        },
        {
          "output_type": "display_data",
          "data": {
            "text/plain": [
              "<IPython.core.display.HTML object>"
            ],
            "text/html": [
              "<br>    <style><br>        .wandb-row {<br>            display: flex;<br>            flex-direction: row;<br>            flex-wrap: wrap;<br>            justify-content: flex-start;<br>            width: 100%;<br>        }<br>        .wandb-col {<br>            display: flex;<br>            flex-direction: column;<br>            flex-basis: 100%;<br>            flex: 1;<br>            padding: 10px;<br>        }<br>    </style><br><div class=\"wandb-row\"><div class=\"wandb-col\"><h3>Run history:</h3><br/><table class=\"wandb\"><tr><td>loss</td><td>█▆▄▄▃▃▃▂▂▂▂▂▂▂▂▂▂▁▁▁▁▁▁▁▁▁▁▁▁▁▁▁▁▁▁▁▁▁▁▁</td></tr></table><br/></div><div class=\"wandb-col\"><h3>Run summary:</h3><br/><table class=\"wandb\"><tr><td>loss</td><td>4.85763</td></tr></table><br/></div></div>"
            ]
          },
          "metadata": {}
        },
        {
          "output_type": "display_data",
          "data": {
            "text/plain": [
              "<IPython.core.display.HTML object>"
            ],
            "text/html": [
              " View run <strong style=\"color:#cdcd00\">vivid-sweep-1</strong> at: <a href='https://wandb.ai/amanupg-columbia-university/chatbot-hyperparameter-sweep/runs/lwy6v2uw' target=\"_blank\">https://wandb.ai/amanupg-columbia-university/chatbot-hyperparameter-sweep/runs/lwy6v2uw</a><br> View project at: <a href='https://wandb.ai/amanupg-columbia-university/chatbot-hyperparameter-sweep' target=\"_blank\">https://wandb.ai/amanupg-columbia-university/chatbot-hyperparameter-sweep</a><br>Synced 5 W&B file(s), 0 media file(s), 0 artifact file(s) and 0 other file(s)"
            ]
          },
          "metadata": {}
        },
        {
          "output_type": "display_data",
          "data": {
            "text/plain": [
              "<IPython.core.display.HTML object>"
            ],
            "text/html": [
              "Find logs at: <code>./wandb/run-20251002_085706-lwy6v2uw/logs</code>"
            ]
          },
          "metadata": {}
        },
        {
          "output_type": "stream",
          "name": "stderr",
          "text": [
            "\u001b[34m\u001b[1mwandb\u001b[0m: Agent Starting Run: rcdr66lz with config:\n",
            "\u001b[34m\u001b[1mwandb\u001b[0m: \tclip: 100\n",
            "\u001b[34m\u001b[1mwandb\u001b[0m: \tdecoder_learning_ratio: 1\n",
            "\u001b[34m\u001b[1mwandb\u001b[0m: \tlearning_rate: 0.0005\n",
            "\u001b[34m\u001b[1mwandb\u001b[0m: \toptimizer: sgd\n",
            "\u001b[34m\u001b[1mwandb\u001b[0m: \tteacher_forcing_ratio: 0\n"
          ]
        },
        {
          "output_type": "display_data",
          "data": {
            "text/plain": [
              "<IPython.core.display.HTML object>"
            ],
            "text/html": []
          },
          "metadata": {}
        },
        {
          "output_type": "display_data",
          "data": {
            "text/plain": [
              "<IPython.core.display.HTML object>"
            ],
            "text/html": [
              "Tracking run with wandb version 0.21.4"
            ]
          },
          "metadata": {}
        },
        {
          "output_type": "display_data",
          "data": {
            "text/plain": [
              "<IPython.core.display.HTML object>"
            ],
            "text/html": [
              "Run data is saved locally in <code>/content/wandb/run-20251002_090020-rcdr66lz</code>"
            ]
          },
          "metadata": {}
        },
        {
          "output_type": "display_data",
          "data": {
            "text/plain": [
              "<IPython.core.display.HTML object>"
            ],
            "text/html": [
              "Syncing run <strong><a href='https://wandb.ai/amanupg-columbia-university/chatbot-hyperparameter-sweep/runs/rcdr66lz' target=\"_blank\">fragrant-sweep-2</a></strong> to <a href='https://wandb.ai/amanupg-columbia-university/chatbot-hyperparameter-sweep' target=\"_blank\">Weights & Biases</a> (<a href='https://wandb.me/developer-guide' target=\"_blank\">docs</a>)<br>Sweep page: <a href='https://wandb.ai/amanupg-columbia-university/chatbot-hyperparameter-sweep/sweeps/7p21fix1' target=\"_blank\">https://wandb.ai/amanupg-columbia-university/chatbot-hyperparameter-sweep/sweeps/7p21fix1</a>"
            ]
          },
          "metadata": {}
        },
        {
          "output_type": "display_data",
          "data": {
            "text/plain": [
              "<IPython.core.display.HTML object>"
            ],
            "text/html": [
              " View project at <a href='https://wandb.ai/amanupg-columbia-university/chatbot-hyperparameter-sweep' target=\"_blank\">https://wandb.ai/amanupg-columbia-university/chatbot-hyperparameter-sweep</a>"
            ]
          },
          "metadata": {}
        },
        {
          "output_type": "display_data",
          "data": {
            "text/plain": [
              "<IPython.core.display.HTML object>"
            ],
            "text/html": [
              " View sweep at <a href='https://wandb.ai/amanupg-columbia-university/chatbot-hyperparameter-sweep/sweeps/7p21fix1' target=\"_blank\">https://wandb.ai/amanupg-columbia-university/chatbot-hyperparameter-sweep/sweeps/7p21fix1</a>"
            ]
          },
          "metadata": {}
        },
        {
          "output_type": "display_data",
          "data": {
            "text/plain": [
              "<IPython.core.display.HTML object>"
            ],
            "text/html": [
              " View run at <a href='https://wandb.ai/amanupg-columbia-university/chatbot-hyperparameter-sweep/runs/rcdr66lz' target=\"_blank\">https://wandb.ai/amanupg-columbia-university/chatbot-hyperparameter-sweep/runs/rcdr66lz</a>"
            ]
          },
          "metadata": {}
        },
        {
          "output_type": "stream",
          "name": "stdout",
          "text": [
            "Using optimizer: sgd\n",
            "Starting Training for one sweep iteration!\n",
            "Initializing ...\n",
            "Training...\n",
            "Iteration: 100; Percent complete: 2.5%; Average loss: 8.5985\n",
            "Iteration: 200; Percent complete: 5.0%; Average loss: 6.9115\n",
            "Iteration: 300; Percent complete: 7.5%; Average loss: 6.5654\n",
            "Iteration: 400; Percent complete: 10.0%; Average loss: 6.3173\n",
            "Iteration: 500; Percent complete: 12.5%; Average loss: 6.0981\n",
            "Iteration: 600; Percent complete: 15.0%; Average loss: 5.9230\n",
            "Iteration: 700; Percent complete: 17.5%; Average loss: 5.7889\n",
            "Iteration: 800; Percent complete: 20.0%; Average loss: 5.6845\n",
            "Iteration: 900; Percent complete: 22.5%; Average loss: 5.5762\n",
            "Iteration: 1000; Percent complete: 25.0%; Average loss: 5.5170\n",
            "Iteration: 1100; Percent complete: 27.5%; Average loss: 5.4390\n",
            "Iteration: 1200; Percent complete: 30.0%; Average loss: 5.3719\n",
            "Iteration: 1300; Percent complete: 32.5%; Average loss: 5.3436\n",
            "Iteration: 1400; Percent complete: 35.0%; Average loss: 5.2842\n",
            "Iteration: 1500; Percent complete: 37.5%; Average loss: 5.2394\n",
            "Iteration: 1600; Percent complete: 40.0%; Average loss: 5.2194\n",
            "Iteration: 1700; Percent complete: 42.5%; Average loss: 5.1788\n",
            "Iteration: 1800; Percent complete: 45.0%; Average loss: 5.1703\n",
            "Iteration: 1900; Percent complete: 47.5%; Average loss: 5.1351\n",
            "Iteration: 2000; Percent complete: 50.0%; Average loss: 5.1175\n",
            "Iteration: 2100; Percent complete: 52.5%; Average loss: 5.0957\n",
            "Iteration: 2200; Percent complete: 55.0%; Average loss: 5.0659\n",
            "Iteration: 2300; Percent complete: 57.5%; Average loss: 5.0611\n",
            "Iteration: 2400; Percent complete: 60.0%; Average loss: 5.0703\n",
            "Iteration: 2500; Percent complete: 62.5%; Average loss: 5.0301\n",
            "Iteration: 2600; Percent complete: 65.0%; Average loss: 5.0212\n",
            "Iteration: 2700; Percent complete: 67.5%; Average loss: 5.0029\n",
            "Iteration: 2800; Percent complete: 70.0%; Average loss: 4.9870\n",
            "Iteration: 2900; Percent complete: 72.5%; Average loss: 4.9766\n",
            "Iteration: 3000; Percent complete: 75.0%; Average loss: 4.9804\n",
            "Iteration: 3100; Percent complete: 77.5%; Average loss: 4.9920\n",
            "Iteration: 3200; Percent complete: 80.0%; Average loss: 4.9457\n",
            "Iteration: 3300; Percent complete: 82.5%; Average loss: 4.9629\n",
            "Iteration: 3400; Percent complete: 85.0%; Average loss: 4.9158\n",
            "Iteration: 3500; Percent complete: 87.5%; Average loss: 4.9552\n",
            "Iteration: 3600; Percent complete: 90.0%; Average loss: 4.9358\n",
            "Iteration: 3700; Percent complete: 92.5%; Average loss: 4.9421\n",
            "Iteration: 3800; Percent complete: 95.0%; Average loss: 4.9494\n",
            "Iteration: 3900; Percent complete: 97.5%; Average loss: 4.9242\n",
            "Iteration: 4000; Percent complete: 100.0%; Average loss: 4.9253\n"
          ]
        },
        {
          "output_type": "display_data",
          "data": {
            "text/plain": [
              "<IPython.core.display.HTML object>"
            ],
            "text/html": []
          },
          "metadata": {}
        },
        {
          "output_type": "display_data",
          "data": {
            "text/plain": [
              "<IPython.core.display.HTML object>"
            ],
            "text/html": [
              "<br>    <style><br>        .wandb-row {<br>            display: flex;<br>            flex-direction: row;<br>            flex-wrap: wrap;<br>            justify-content: flex-start;<br>            width: 100%;<br>        }<br>        .wandb-col {<br>            display: flex;<br>            flex-direction: column;<br>            flex-basis: 100%;<br>            flex: 1;<br>            padding: 10px;<br>        }<br>    </style><br><div class=\"wandb-row\"><div class=\"wandb-col\"><h3>Run history:</h3><br/><table class=\"wandb\"><tr><td>loss</td><td>█▅▄▄▃▃▃▂▂▂▂▂▂▂▂▂▁▁▁▁▁▁▁▁▁▁▁▁▁▁▁▁▁▁▁▁▁▁▁▁</td></tr></table><br/></div><div class=\"wandb-col\"><h3>Run summary:</h3><br/><table class=\"wandb\"><tr><td>loss</td><td>4.92529</td></tr></table><br/></div></div>"
            ]
          },
          "metadata": {}
        },
        {
          "output_type": "display_data",
          "data": {
            "text/plain": [
              "<IPython.core.display.HTML object>"
            ],
            "text/html": [
              " View run <strong style=\"color:#cdcd00\">fragrant-sweep-2</strong> at: <a href='https://wandb.ai/amanupg-columbia-university/chatbot-hyperparameter-sweep/runs/rcdr66lz' target=\"_blank\">https://wandb.ai/amanupg-columbia-university/chatbot-hyperparameter-sweep/runs/rcdr66lz</a><br> View project at: <a href='https://wandb.ai/amanupg-columbia-university/chatbot-hyperparameter-sweep' target=\"_blank\">https://wandb.ai/amanupg-columbia-university/chatbot-hyperparameter-sweep</a><br>Synced 5 W&B file(s), 0 media file(s), 0 artifact file(s) and 0 other file(s)"
            ]
          },
          "metadata": {}
        },
        {
          "output_type": "display_data",
          "data": {
            "text/plain": [
              "<IPython.core.display.HTML object>"
            ],
            "text/html": [
              "Find logs at: <code>./wandb/run-20251002_090020-rcdr66lz/logs</code>"
            ]
          },
          "metadata": {}
        },
        {
          "output_type": "stream",
          "name": "stderr",
          "text": [
            "\u001b[34m\u001b[1mwandb\u001b[0m: Agent Starting Run: 5n6f85hq with config:\n",
            "\u001b[34m\u001b[1mwandb\u001b[0m: \tclip: 25\n",
            "\u001b[34m\u001b[1mwandb\u001b[0m: \tdecoder_learning_ratio: 3\n",
            "\u001b[34m\u001b[1mwandb\u001b[0m: \tlearning_rate: 0.0001\n",
            "\u001b[34m\u001b[1mwandb\u001b[0m: \toptimizer: sgd\n",
            "\u001b[34m\u001b[1mwandb\u001b[0m: \tteacher_forcing_ratio: 1\n"
          ]
        },
        {
          "output_type": "display_data",
          "data": {
            "text/plain": [
              "<IPython.core.display.HTML object>"
            ],
            "text/html": []
          },
          "metadata": {}
        },
        {
          "output_type": "display_data",
          "data": {
            "text/plain": [
              "<IPython.core.display.HTML object>"
            ],
            "text/html": [
              "Tracking run with wandb version 0.21.4"
            ]
          },
          "metadata": {}
        },
        {
          "output_type": "display_data",
          "data": {
            "text/plain": [
              "<IPython.core.display.HTML object>"
            ],
            "text/html": [
              "Run data is saved locally in <code>/content/wandb/run-20251002_090350-5n6f85hq</code>"
            ]
          },
          "metadata": {}
        },
        {
          "output_type": "display_data",
          "data": {
            "text/plain": [
              "<IPython.core.display.HTML object>"
            ],
            "text/html": [
              "Syncing run <strong><a href='https://wandb.ai/amanupg-columbia-university/chatbot-hyperparameter-sweep/runs/5n6f85hq' target=\"_blank\">ethereal-sweep-3</a></strong> to <a href='https://wandb.ai/amanupg-columbia-university/chatbot-hyperparameter-sweep' target=\"_blank\">Weights & Biases</a> (<a href='https://wandb.me/developer-guide' target=\"_blank\">docs</a>)<br>Sweep page: <a href='https://wandb.ai/amanupg-columbia-university/chatbot-hyperparameter-sweep/sweeps/7p21fix1' target=\"_blank\">https://wandb.ai/amanupg-columbia-university/chatbot-hyperparameter-sweep/sweeps/7p21fix1</a>"
            ]
          },
          "metadata": {}
        },
        {
          "output_type": "display_data",
          "data": {
            "text/plain": [
              "<IPython.core.display.HTML object>"
            ],
            "text/html": [
              " View project at <a href='https://wandb.ai/amanupg-columbia-university/chatbot-hyperparameter-sweep' target=\"_blank\">https://wandb.ai/amanupg-columbia-university/chatbot-hyperparameter-sweep</a>"
            ]
          },
          "metadata": {}
        },
        {
          "output_type": "display_data",
          "data": {
            "text/plain": [
              "<IPython.core.display.HTML object>"
            ],
            "text/html": [
              " View sweep at <a href='https://wandb.ai/amanupg-columbia-university/chatbot-hyperparameter-sweep/sweeps/7p21fix1' target=\"_blank\">https://wandb.ai/amanupg-columbia-university/chatbot-hyperparameter-sweep/sweeps/7p21fix1</a>"
            ]
          },
          "metadata": {}
        },
        {
          "output_type": "display_data",
          "data": {
            "text/plain": [
              "<IPython.core.display.HTML object>"
            ],
            "text/html": [
              " View run at <a href='https://wandb.ai/amanupg-columbia-university/chatbot-hyperparameter-sweep/runs/5n6f85hq' target=\"_blank\">https://wandb.ai/amanupg-columbia-university/chatbot-hyperparameter-sweep/runs/5n6f85hq</a>"
            ]
          },
          "metadata": {}
        },
        {
          "output_type": "stream",
          "name": "stdout",
          "text": [
            "Using optimizer: sgd\n",
            "Starting Training for one sweep iteration!\n",
            "Initializing ...\n",
            "Training...\n",
            "Iteration: 100; Percent complete: 2.5%; Average loss: 8.9159\n",
            "Iteration: 200; Percent complete: 5.0%; Average loss: 8.7921\n",
            "Iteration: 300; Percent complete: 7.5%; Average loss: 8.4569\n",
            "Iteration: 400; Percent complete: 10.0%; Average loss: 7.5064\n",
            "Iteration: 500; Percent complete: 12.5%; Average loss: 6.9234\n",
            "Iteration: 600; Percent complete: 15.0%; Average loss: 6.6546\n",
            "Iteration: 700; Percent complete: 17.5%; Average loss: 6.5012\n",
            "Iteration: 800; Percent complete: 20.0%; Average loss: 6.3636\n",
            "Iteration: 900; Percent complete: 22.5%; Average loss: 6.2610\n",
            "Iteration: 1000; Percent complete: 25.0%; Average loss: 6.1790\n",
            "Iteration: 1100; Percent complete: 27.5%; Average loss: 6.0882\n",
            "Iteration: 1200; Percent complete: 30.0%; Average loss: 5.9769\n",
            "Iteration: 1300; Percent complete: 32.5%; Average loss: 5.8810\n",
            "Iteration: 1400; Percent complete: 35.0%; Average loss: 5.8267\n",
            "Iteration: 1500; Percent complete: 37.5%; Average loss: 5.7828\n",
            "Iteration: 1600; Percent complete: 40.0%; Average loss: 5.6580\n",
            "Iteration: 1700; Percent complete: 42.5%; Average loss: 5.6083\n",
            "Iteration: 1800; Percent complete: 45.0%; Average loss: 5.5510\n",
            "Iteration: 1900; Percent complete: 47.5%; Average loss: 5.4984\n",
            "Iteration: 2000; Percent complete: 50.0%; Average loss: 5.4371\n",
            "Iteration: 2100; Percent complete: 52.5%; Average loss: 5.3913\n",
            "Iteration: 2200; Percent complete: 55.0%; Average loss: 5.3373\n",
            "Iteration: 2300; Percent complete: 57.5%; Average loss: 5.3108\n",
            "Iteration: 2400; Percent complete: 60.0%; Average loss: 5.2841\n",
            "Iteration: 2500; Percent complete: 62.5%; Average loss: 5.2540\n",
            "Iteration: 2600; Percent complete: 65.0%; Average loss: 5.2164\n",
            "Iteration: 2700; Percent complete: 67.5%; Average loss: 5.2066\n",
            "Iteration: 2800; Percent complete: 70.0%; Average loss: 5.1434\n",
            "Iteration: 2900; Percent complete: 72.5%; Average loss: 5.1290\n",
            "Iteration: 3000; Percent complete: 75.0%; Average loss: 5.1035\n",
            "Iteration: 3100; Percent complete: 77.5%; Average loss: 5.0815\n",
            "Iteration: 3200; Percent complete: 80.0%; Average loss: 5.0475\n",
            "Iteration: 3300; Percent complete: 82.5%; Average loss: 5.0126\n",
            "Iteration: 3400; Percent complete: 85.0%; Average loss: 5.0079\n",
            "Iteration: 3500; Percent complete: 87.5%; Average loss: 4.9858\n",
            "Iteration: 3600; Percent complete: 90.0%; Average loss: 4.9788\n",
            "Iteration: 3700; Percent complete: 92.5%; Average loss: 4.9410\n",
            "Iteration: 3800; Percent complete: 95.0%; Average loss: 4.9638\n",
            "Iteration: 3900; Percent complete: 97.5%; Average loss: 4.9304\n",
            "Iteration: 4000; Percent complete: 100.0%; Average loss: 4.9077\n"
          ]
        },
        {
          "output_type": "display_data",
          "data": {
            "text/plain": [
              "<IPython.core.display.HTML object>"
            ],
            "text/html": []
          },
          "metadata": {}
        },
        {
          "output_type": "display_data",
          "data": {
            "text/plain": [
              "<IPython.core.display.HTML object>"
            ],
            "text/html": [
              "<br>    <style><br>        .wandb-row {<br>            display: flex;<br>            flex-direction: row;<br>            flex-wrap: wrap;<br>            justify-content: flex-start;<br>            width: 100%;<br>        }<br>        .wandb-col {<br>            display: flex;<br>            flex-direction: column;<br>            flex-basis: 100%;<br>            flex: 1;<br>            padding: 10px;<br>        }<br>    </style><br><div class=\"wandb-row\"><div class=\"wandb-col\"><h3>Run history:</h3><br/><table class=\"wandb\"><tr><td>loss</td><td>██▇▆▅▄▄▄▃▃▃▃▃▃▃▂▂▂▂▂▂▂▂▂▂▂▂▁▁▁▁▁▁▁▁▁▁▁▁▁</td></tr></table><br/></div><div class=\"wandb-col\"><h3>Run summary:</h3><br/><table class=\"wandb\"><tr><td>loss</td><td>4.9077</td></tr></table><br/></div></div>"
            ]
          },
          "metadata": {}
        },
        {
          "output_type": "display_data",
          "data": {
            "text/plain": [
              "<IPython.core.display.HTML object>"
            ],
            "text/html": [
              " View run <strong style=\"color:#cdcd00\">ethereal-sweep-3</strong> at: <a href='https://wandb.ai/amanupg-columbia-university/chatbot-hyperparameter-sweep/runs/5n6f85hq' target=\"_blank\">https://wandb.ai/amanupg-columbia-university/chatbot-hyperparameter-sweep/runs/5n6f85hq</a><br> View project at: <a href='https://wandb.ai/amanupg-columbia-university/chatbot-hyperparameter-sweep' target=\"_blank\">https://wandb.ai/amanupg-columbia-university/chatbot-hyperparameter-sweep</a><br>Synced 5 W&B file(s), 0 media file(s), 0 artifact file(s) and 0 other file(s)"
            ]
          },
          "metadata": {}
        },
        {
          "output_type": "display_data",
          "data": {
            "text/plain": [
              "<IPython.core.display.HTML object>"
            ],
            "text/html": [
              "Find logs at: <code>./wandb/run-20251002_090350-5n6f85hq/logs</code>"
            ]
          },
          "metadata": {}
        },
        {
          "output_type": "stream",
          "name": "stderr",
          "text": [
            "\u001b[34m\u001b[1mwandb\u001b[0m: Agent Starting Run: tzusng3v with config:\n",
            "\u001b[34m\u001b[1mwandb\u001b[0m: \tclip: 100\n",
            "\u001b[34m\u001b[1mwandb\u001b[0m: \tdecoder_learning_ratio: 5\n",
            "\u001b[34m\u001b[1mwandb\u001b[0m: \tlearning_rate: 0.00025\n",
            "\u001b[34m\u001b[1mwandb\u001b[0m: \toptimizer: sgd\n",
            "\u001b[34m\u001b[1mwandb\u001b[0m: \tteacher_forcing_ratio: 1\n"
          ]
        },
        {
          "output_type": "display_data",
          "data": {
            "text/plain": [
              "<IPython.core.display.HTML object>"
            ],
            "text/html": []
          },
          "metadata": {}
        },
        {
          "output_type": "display_data",
          "data": {
            "text/plain": [
              "<IPython.core.display.HTML object>"
            ],
            "text/html": [
              "Tracking run with wandb version 0.21.4"
            ]
          },
          "metadata": {}
        },
        {
          "output_type": "display_data",
          "data": {
            "text/plain": [
              "<IPython.core.display.HTML object>"
            ],
            "text/html": [
              "Run data is saved locally in <code>/content/wandb/run-20251002_090638-tzusng3v</code>"
            ]
          },
          "metadata": {}
        },
        {
          "output_type": "display_data",
          "data": {
            "text/plain": [
              "<IPython.core.display.HTML object>"
            ],
            "text/html": [
              "Syncing run <strong><a href='https://wandb.ai/amanupg-columbia-university/chatbot-hyperparameter-sweep/runs/tzusng3v' target=\"_blank\">zesty-sweep-4</a></strong> to <a href='https://wandb.ai/amanupg-columbia-university/chatbot-hyperparameter-sweep' target=\"_blank\">Weights & Biases</a> (<a href='https://wandb.me/developer-guide' target=\"_blank\">docs</a>)<br>Sweep page: <a href='https://wandb.ai/amanupg-columbia-university/chatbot-hyperparameter-sweep/sweeps/7p21fix1' target=\"_blank\">https://wandb.ai/amanupg-columbia-university/chatbot-hyperparameter-sweep/sweeps/7p21fix1</a>"
            ]
          },
          "metadata": {}
        },
        {
          "output_type": "display_data",
          "data": {
            "text/plain": [
              "<IPython.core.display.HTML object>"
            ],
            "text/html": [
              " View project at <a href='https://wandb.ai/amanupg-columbia-university/chatbot-hyperparameter-sweep' target=\"_blank\">https://wandb.ai/amanupg-columbia-university/chatbot-hyperparameter-sweep</a>"
            ]
          },
          "metadata": {}
        },
        {
          "output_type": "display_data",
          "data": {
            "text/plain": [
              "<IPython.core.display.HTML object>"
            ],
            "text/html": [
              " View sweep at <a href='https://wandb.ai/amanupg-columbia-university/chatbot-hyperparameter-sweep/sweeps/7p21fix1' target=\"_blank\">https://wandb.ai/amanupg-columbia-university/chatbot-hyperparameter-sweep/sweeps/7p21fix1</a>"
            ]
          },
          "metadata": {}
        },
        {
          "output_type": "display_data",
          "data": {
            "text/plain": [
              "<IPython.core.display.HTML object>"
            ],
            "text/html": [
              " View run at <a href='https://wandb.ai/amanupg-columbia-university/chatbot-hyperparameter-sweep/runs/tzusng3v' target=\"_blank\">https://wandb.ai/amanupg-columbia-university/chatbot-hyperparameter-sweep/runs/tzusng3v</a>"
            ]
          },
          "metadata": {}
        },
        {
          "output_type": "stream",
          "name": "stdout",
          "text": [
            "Using optimizer: sgd\n",
            "Starting Training for one sweep iteration!\n",
            "Initializing ...\n",
            "Training...\n",
            "Iteration: 100; Percent complete: 2.5%; Average loss: 8.4541\n",
            "Iteration: 200; Percent complete: 5.0%; Average loss: 6.6686\n",
            "Iteration: 300; Percent complete: 7.5%; Average loss: 6.1646\n",
            "Iteration: 400; Percent complete: 10.0%; Average loss: 5.8125\n",
            "Iteration: 500; Percent complete: 12.5%; Average loss: 5.5633\n",
            "Iteration: 600; Percent complete: 15.0%; Average loss: 5.3839\n",
            "Iteration: 700; Percent complete: 17.5%; Average loss: 5.2351\n",
            "Iteration: 800; Percent complete: 20.0%; Average loss: 5.1123\n",
            "Iteration: 900; Percent complete: 22.5%; Average loss: 5.0247\n",
            "Iteration: 1000; Percent complete: 25.0%; Average loss: 4.9613\n",
            "Iteration: 1100; Percent complete: 27.5%; Average loss: 4.8992\n",
            "Iteration: 1200; Percent complete: 30.0%; Average loss: 4.8838\n",
            "Iteration: 1300; Percent complete: 32.5%; Average loss: 4.8177\n",
            "Iteration: 1400; Percent complete: 35.0%; Average loss: 4.8166\n",
            "Iteration: 1500; Percent complete: 37.5%; Average loss: 4.7658\n",
            "Iteration: 1600; Percent complete: 40.0%; Average loss: 4.7586\n",
            "Iteration: 1700; Percent complete: 42.5%; Average loss: 4.7466\n",
            "Iteration: 1800; Percent complete: 45.0%; Average loss: 4.7261\n",
            "Iteration: 1900; Percent complete: 47.5%; Average loss: 4.7099\n",
            "Iteration: 2000; Percent complete: 50.0%; Average loss: 4.6756\n",
            "Iteration: 2100; Percent complete: 52.5%; Average loss: 4.6567\n",
            "Iteration: 2200; Percent complete: 55.0%; Average loss: 4.6516\n",
            "Iteration: 2300; Percent complete: 57.5%; Average loss: 4.6412\n",
            "Iteration: 2400; Percent complete: 60.0%; Average loss: 4.6416\n",
            "Iteration: 2500; Percent complete: 62.5%; Average loss: 4.6446\n",
            "Iteration: 2600; Percent complete: 65.0%; Average loss: 4.5986\n",
            "Iteration: 2700; Percent complete: 67.5%; Average loss: 4.6111\n",
            "Iteration: 2800; Percent complete: 70.0%; Average loss: 4.5834\n",
            "Iteration: 2900; Percent complete: 72.5%; Average loss: 4.5830\n",
            "Iteration: 3000; Percent complete: 75.0%; Average loss: 4.5679\n",
            "Iteration: 3100; Percent complete: 77.5%; Average loss: 4.5580\n",
            "Iteration: 3200; Percent complete: 80.0%; Average loss: 4.5518\n",
            "Iteration: 3300; Percent complete: 82.5%; Average loss: 4.5527\n",
            "Iteration: 3400; Percent complete: 85.0%; Average loss: 4.5164\n",
            "Iteration: 3500; Percent complete: 87.5%; Average loss: 4.5368\n",
            "Iteration: 3600; Percent complete: 90.0%; Average loss: 4.5510\n",
            "Iteration: 3700; Percent complete: 92.5%; Average loss: 4.4997\n",
            "Iteration: 3800; Percent complete: 95.0%; Average loss: 4.5075\n",
            "Iteration: 3900; Percent complete: 97.5%; Average loss: 4.5242\n",
            "Iteration: 4000; Percent complete: 100.0%; Average loss: 4.4959\n"
          ]
        },
        {
          "output_type": "display_data",
          "data": {
            "text/plain": [
              "<IPython.core.display.HTML object>"
            ],
            "text/html": []
          },
          "metadata": {}
        },
        {
          "output_type": "display_data",
          "data": {
            "text/plain": [
              "<IPython.core.display.HTML object>"
            ],
            "text/html": [
              "<br>    <style><br>        .wandb-row {<br>            display: flex;<br>            flex-direction: row;<br>            flex-wrap: wrap;<br>            justify-content: flex-start;<br>            width: 100%;<br>        }<br>        .wandb-col {<br>            display: flex;<br>            flex-direction: column;<br>            flex-basis: 100%;<br>            flex: 1;<br>            padding: 10px;<br>        }<br>    </style><br><div class=\"wandb-row\"><div class=\"wandb-col\"><h3>Run history:</h3><br/><table class=\"wandb\"><tr><td>loss</td><td>█▅▄▃▃▃▂▂▂▂▂▂▂▂▁▁▁▁▁▁▁▁▁▁▁▁▁▁▁▁▁▁▁▁▁▁▁▁▁▁</td></tr></table><br/></div><div class=\"wandb-col\"><h3>Run summary:</h3><br/><table class=\"wandb\"><tr><td>loss</td><td>4.49588</td></tr></table><br/></div></div>"
            ]
          },
          "metadata": {}
        },
        {
          "output_type": "display_data",
          "data": {
            "text/plain": [
              "<IPython.core.display.HTML object>"
            ],
            "text/html": [
              " View run <strong style=\"color:#cdcd00\">zesty-sweep-4</strong> at: <a href='https://wandb.ai/amanupg-columbia-university/chatbot-hyperparameter-sweep/runs/tzusng3v' target=\"_blank\">https://wandb.ai/amanupg-columbia-university/chatbot-hyperparameter-sweep/runs/tzusng3v</a><br> View project at: <a href='https://wandb.ai/amanupg-columbia-university/chatbot-hyperparameter-sweep' target=\"_blank\">https://wandb.ai/amanupg-columbia-university/chatbot-hyperparameter-sweep</a><br>Synced 5 W&B file(s), 0 media file(s), 0 artifact file(s) and 0 other file(s)"
            ]
          },
          "metadata": {}
        },
        {
          "output_type": "display_data",
          "data": {
            "text/plain": [
              "<IPython.core.display.HTML object>"
            ],
            "text/html": [
              "Find logs at: <code>./wandb/run-20251002_090638-tzusng3v/logs</code>"
            ]
          },
          "metadata": {}
        },
        {
          "output_type": "stream",
          "name": "stderr",
          "text": [
            "\u001b[34m\u001b[1mwandb\u001b[0m: Agent Starting Run: 440jixvo with config:\n",
            "\u001b[34m\u001b[1mwandb\u001b[0m: \tclip: 0\n",
            "\u001b[34m\u001b[1mwandb\u001b[0m: \tdecoder_learning_ratio: 5\n",
            "\u001b[34m\u001b[1mwandb\u001b[0m: \tlearning_rate: 0.0001\n",
            "\u001b[34m\u001b[1mwandb\u001b[0m: \toptimizer: sgd\n",
            "\u001b[34m\u001b[1mwandb\u001b[0m: \tteacher_forcing_ratio: 0\n"
          ]
        },
        {
          "output_type": "display_data",
          "data": {
            "text/plain": [
              "<IPython.core.display.HTML object>"
            ],
            "text/html": []
          },
          "metadata": {}
        },
        {
          "output_type": "display_data",
          "data": {
            "text/plain": [
              "<IPython.core.display.HTML object>"
            ],
            "text/html": [
              "Tracking run with wandb version 0.21.4"
            ]
          },
          "metadata": {}
        },
        {
          "output_type": "display_data",
          "data": {
            "text/plain": [
              "<IPython.core.display.HTML object>"
            ],
            "text/html": [
              "Run data is saved locally in <code>/content/wandb/run-20251002_090926-440jixvo</code>"
            ]
          },
          "metadata": {}
        },
        {
          "output_type": "display_data",
          "data": {
            "text/plain": [
              "<IPython.core.display.HTML object>"
            ],
            "text/html": [
              "Syncing run <strong><a href='https://wandb.ai/amanupg-columbia-university/chatbot-hyperparameter-sweep/runs/440jixvo' target=\"_blank\">deep-sweep-5</a></strong> to <a href='https://wandb.ai/amanupg-columbia-university/chatbot-hyperparameter-sweep' target=\"_blank\">Weights & Biases</a> (<a href='https://wandb.me/developer-guide' target=\"_blank\">docs</a>)<br>Sweep page: <a href='https://wandb.ai/amanupg-columbia-university/chatbot-hyperparameter-sweep/sweeps/7p21fix1' target=\"_blank\">https://wandb.ai/amanupg-columbia-university/chatbot-hyperparameter-sweep/sweeps/7p21fix1</a>"
            ]
          },
          "metadata": {}
        },
        {
          "output_type": "display_data",
          "data": {
            "text/plain": [
              "<IPython.core.display.HTML object>"
            ],
            "text/html": [
              " View project at <a href='https://wandb.ai/amanupg-columbia-university/chatbot-hyperparameter-sweep' target=\"_blank\">https://wandb.ai/amanupg-columbia-university/chatbot-hyperparameter-sweep</a>"
            ]
          },
          "metadata": {}
        },
        {
          "output_type": "display_data",
          "data": {
            "text/plain": [
              "<IPython.core.display.HTML object>"
            ],
            "text/html": [
              " View sweep at <a href='https://wandb.ai/amanupg-columbia-university/chatbot-hyperparameter-sweep/sweeps/7p21fix1' target=\"_blank\">https://wandb.ai/amanupg-columbia-university/chatbot-hyperparameter-sweep/sweeps/7p21fix1</a>"
            ]
          },
          "metadata": {}
        },
        {
          "output_type": "display_data",
          "data": {
            "text/plain": [
              "<IPython.core.display.HTML object>"
            ],
            "text/html": [
              " View run at <a href='https://wandb.ai/amanupg-columbia-university/chatbot-hyperparameter-sweep/runs/440jixvo' target=\"_blank\">https://wandb.ai/amanupg-columbia-university/chatbot-hyperparameter-sweep/runs/440jixvo</a>"
            ]
          },
          "metadata": {}
        },
        {
          "output_type": "stream",
          "name": "stdout",
          "text": [
            "Using optimizer: sgd\n",
            "Starting Training for one sweep iteration!\n",
            "Initializing ...\n",
            "Training...\n",
            "Iteration: 100; Percent complete: 2.5%; Average loss: 8.9659\n",
            "Iteration: 200; Percent complete: 5.0%; Average loss: 8.9666\n",
            "Iteration: 300; Percent complete: 7.5%; Average loss: 8.9664\n",
            "Iteration: 400; Percent complete: 10.0%; Average loss: 8.9660\n",
            "Iteration: 500; Percent complete: 12.5%; Average loss: 8.9661\n",
            "Iteration: 600; Percent complete: 15.0%; Average loss: 8.9656\n",
            "Iteration: 700; Percent complete: 17.5%; Average loss: 8.9660\n",
            "Iteration: 800; Percent complete: 20.0%; Average loss: 8.9656\n",
            "Iteration: 900; Percent complete: 22.5%; Average loss: 8.9665\n",
            "Iteration: 1000; Percent complete: 25.0%; Average loss: 8.9662\n",
            "Iteration: 1100; Percent complete: 27.5%; Average loss: 8.9662\n",
            "Iteration: 1200; Percent complete: 30.0%; Average loss: 8.9660\n",
            "Iteration: 1300; Percent complete: 32.5%; Average loss: 8.9661\n",
            "Iteration: 1400; Percent complete: 35.0%; Average loss: 8.9660\n",
            "Iteration: 1500; Percent complete: 37.5%; Average loss: 8.9658\n",
            "Iteration: 1600; Percent complete: 40.0%; Average loss: 8.9660\n",
            "Iteration: 1700; Percent complete: 42.5%; Average loss: 8.9658\n",
            "Iteration: 1800; Percent complete: 45.0%; Average loss: 8.9658\n",
            "Iteration: 1900; Percent complete: 47.5%; Average loss: 8.9656\n",
            "Iteration: 2000; Percent complete: 50.0%; Average loss: 8.9661\n",
            "Iteration: 2100; Percent complete: 52.5%; Average loss: 8.9654\n",
            "Iteration: 2200; Percent complete: 55.0%; Average loss: 8.9659\n",
            "Iteration: 2300; Percent complete: 57.5%; Average loss: 8.9661\n",
            "Iteration: 2400; Percent complete: 60.0%; Average loss: 8.9664\n",
            "Iteration: 2500; Percent complete: 62.5%; Average loss: 8.9661\n",
            "Iteration: 2600; Percent complete: 65.0%; Average loss: 8.9659\n",
            "Iteration: 2700; Percent complete: 67.5%; Average loss: 8.9658\n",
            "Iteration: 2800; Percent complete: 70.0%; Average loss: 8.9656\n",
            "Iteration: 2900; Percent complete: 72.5%; Average loss: 8.9660\n",
            "Iteration: 3000; Percent complete: 75.0%; Average loss: 8.9659\n",
            "Iteration: 3100; Percent complete: 77.5%; Average loss: 8.9658\n",
            "Iteration: 3200; Percent complete: 80.0%; Average loss: 8.9655\n",
            "Iteration: 3300; Percent complete: 82.5%; Average loss: 8.9663\n",
            "Iteration: 3400; Percent complete: 85.0%; Average loss: 8.9655\n",
            "Iteration: 3500; Percent complete: 87.5%; Average loss: 8.9660\n",
            "Iteration: 3600; Percent complete: 90.0%; Average loss: 8.9660\n",
            "Iteration: 3700; Percent complete: 92.5%; Average loss: 8.9658\n",
            "Iteration: 3800; Percent complete: 95.0%; Average loss: 8.9660\n",
            "Iteration: 3900; Percent complete: 97.5%; Average loss: 8.9661\n",
            "Iteration: 4000; Percent complete: 100.0%; Average loss: 8.9660\n"
          ]
        },
        {
          "output_type": "display_data",
          "data": {
            "text/plain": [
              "<IPython.core.display.HTML object>"
            ],
            "text/html": []
          },
          "metadata": {}
        },
        {
          "output_type": "display_data",
          "data": {
            "text/plain": [
              "<IPython.core.display.HTML object>"
            ],
            "text/html": [
              "<br>    <style><br>        .wandb-row {<br>            display: flex;<br>            flex-direction: row;<br>            flex-wrap: wrap;<br>            justify-content: flex-start;<br>            width: 100%;<br>        }<br>        .wandb-col {<br>            display: flex;<br>            flex-direction: column;<br>            flex-basis: 100%;<br>            flex: 1;<br>            padding: 10px;<br>        }<br>    </style><br><div class=\"wandb-row\"><div class=\"wandb-col\"><h3>Run history:</h3><br/><table class=\"wandb\"><tr><td>loss</td><td>▄█▇▄▅▂▄▂█▆▆▅▅▅▃▅▃▃▂▅▁▄▅▇▅▄▄▂▄▄▃▁▆▁▄▄▃▄▅▅</td></tr></table><br/></div><div class=\"wandb-col\"><h3>Run summary:</h3><br/><table class=\"wandb\"><tr><td>loss</td><td>8.96605</td></tr></table><br/></div></div>"
            ]
          },
          "metadata": {}
        },
        {
          "output_type": "display_data",
          "data": {
            "text/plain": [
              "<IPython.core.display.HTML object>"
            ],
            "text/html": [
              " View run <strong style=\"color:#cdcd00\">deep-sweep-5</strong> at: <a href='https://wandb.ai/amanupg-columbia-university/chatbot-hyperparameter-sweep/runs/440jixvo' target=\"_blank\">https://wandb.ai/amanupg-columbia-university/chatbot-hyperparameter-sweep/runs/440jixvo</a><br> View project at: <a href='https://wandb.ai/amanupg-columbia-university/chatbot-hyperparameter-sweep' target=\"_blank\">https://wandb.ai/amanupg-columbia-university/chatbot-hyperparameter-sweep</a><br>Synced 5 W&B file(s), 0 media file(s), 0 artifact file(s) and 0 other file(s)"
            ]
          },
          "metadata": {}
        },
        {
          "output_type": "display_data",
          "data": {
            "text/plain": [
              "<IPython.core.display.HTML object>"
            ],
            "text/html": [
              "Find logs at: <code>./wandb/run-20251002_090926-440jixvo/logs</code>"
            ]
          },
          "metadata": {}
        },
        {
          "output_type": "stream",
          "name": "stderr",
          "text": [
            "\u001b[34m\u001b[1mwandb\u001b[0m: Sweep Agent: Waiting for job.\n",
            "\u001b[34m\u001b[1mwandb\u001b[0m: Job received.\n",
            "\u001b[34m\u001b[1mwandb\u001b[0m: Agent Starting Run: sifr0pnc with config:\n",
            "\u001b[34m\u001b[1mwandb\u001b[0m: \tclip: 50\n",
            "\u001b[34m\u001b[1mwandb\u001b[0m: \tdecoder_learning_ratio: 3\n",
            "\u001b[34m\u001b[1mwandb\u001b[0m: \tlearning_rate: 0.001\n",
            "\u001b[34m\u001b[1mwandb\u001b[0m: \toptimizer: sgd\n",
            "\u001b[34m\u001b[1mwandb\u001b[0m: \tteacher_forcing_ratio: 1\n"
          ]
        },
        {
          "output_type": "display_data",
          "data": {
            "text/plain": [
              "<IPython.core.display.HTML object>"
            ],
            "text/html": []
          },
          "metadata": {}
        },
        {
          "output_type": "display_data",
          "data": {
            "text/plain": [
              "<IPython.core.display.HTML object>"
            ],
            "text/html": [
              "Tracking run with wandb version 0.21.4"
            ]
          },
          "metadata": {}
        },
        {
          "output_type": "display_data",
          "data": {
            "text/plain": [
              "<IPython.core.display.HTML object>"
            ],
            "text/html": [
              "Run data is saved locally in <code>/content/wandb/run-20251002_091300-sifr0pnc</code>"
            ]
          },
          "metadata": {}
        },
        {
          "output_type": "display_data",
          "data": {
            "text/plain": [
              "<IPython.core.display.HTML object>"
            ],
            "text/html": [
              "Syncing run <strong><a href='https://wandb.ai/amanupg-columbia-university/chatbot-hyperparameter-sweep/runs/sifr0pnc' target=\"_blank\">absurd-sweep-6</a></strong> to <a href='https://wandb.ai/amanupg-columbia-university/chatbot-hyperparameter-sweep' target=\"_blank\">Weights & Biases</a> (<a href='https://wandb.me/developer-guide' target=\"_blank\">docs</a>)<br>Sweep page: <a href='https://wandb.ai/amanupg-columbia-university/chatbot-hyperparameter-sweep/sweeps/7p21fix1' target=\"_blank\">https://wandb.ai/amanupg-columbia-university/chatbot-hyperparameter-sweep/sweeps/7p21fix1</a>"
            ]
          },
          "metadata": {}
        },
        {
          "output_type": "display_data",
          "data": {
            "text/plain": [
              "<IPython.core.display.HTML object>"
            ],
            "text/html": [
              " View project at <a href='https://wandb.ai/amanupg-columbia-university/chatbot-hyperparameter-sweep' target=\"_blank\">https://wandb.ai/amanupg-columbia-university/chatbot-hyperparameter-sweep</a>"
            ]
          },
          "metadata": {}
        },
        {
          "output_type": "display_data",
          "data": {
            "text/plain": [
              "<IPython.core.display.HTML object>"
            ],
            "text/html": [
              " View sweep at <a href='https://wandb.ai/amanupg-columbia-university/chatbot-hyperparameter-sweep/sweeps/7p21fix1' target=\"_blank\">https://wandb.ai/amanupg-columbia-university/chatbot-hyperparameter-sweep/sweeps/7p21fix1</a>"
            ]
          },
          "metadata": {}
        },
        {
          "output_type": "display_data",
          "data": {
            "text/plain": [
              "<IPython.core.display.HTML object>"
            ],
            "text/html": [
              " View run at <a href='https://wandb.ai/amanupg-columbia-university/chatbot-hyperparameter-sweep/runs/sifr0pnc' target=\"_blank\">https://wandb.ai/amanupg-columbia-university/chatbot-hyperparameter-sweep/runs/sifr0pnc</a>"
            ]
          },
          "metadata": {}
        },
        {
          "output_type": "stream",
          "name": "stdout",
          "text": [
            "Using optimizer: sgd\n",
            "Starting Training for one sweep iteration!\n",
            "Initializing ...\n",
            "Training...\n",
            "Iteration: 100; Percent complete: 2.5%; Average loss: 7.3266\n",
            "Iteration: 200; Percent complete: 5.0%; Average loss: 5.7044\n",
            "Iteration: 300; Percent complete: 7.5%; Average loss: 5.2426\n",
            "Iteration: 400; Percent complete: 10.0%; Average loss: 4.9982\n",
            "Iteration: 500; Percent complete: 12.5%; Average loss: 4.8643\n",
            "Iteration: 600; Percent complete: 15.0%; Average loss: 4.7940\n",
            "Iteration: 700; Percent complete: 17.5%; Average loss: 4.7530\n",
            "Iteration: 800; Percent complete: 20.0%; Average loss: 4.7049\n",
            "Iteration: 900; Percent complete: 22.5%; Average loss: 4.6760\n",
            "Iteration: 1000; Percent complete: 25.0%; Average loss: 4.6289\n",
            "Iteration: 1100; Percent complete: 27.5%; Average loss: 4.5873\n",
            "Iteration: 1200; Percent complete: 30.0%; Average loss: 4.5950\n",
            "Iteration: 1300; Percent complete: 32.5%; Average loss: 4.6015\n",
            "Iteration: 1400; Percent complete: 35.0%; Average loss: 4.5452\n",
            "Iteration: 1500; Percent complete: 37.5%; Average loss: 4.5286\n",
            "Iteration: 1600; Percent complete: 40.0%; Average loss: 4.4968\n",
            "Iteration: 1700; Percent complete: 42.5%; Average loss: 4.5147\n",
            "Iteration: 1800; Percent complete: 45.0%; Average loss: 4.4672\n",
            "Iteration: 1900; Percent complete: 47.5%; Average loss: 4.4615\n",
            "Iteration: 2000; Percent complete: 50.0%; Average loss: 4.4844\n",
            "Iteration: 2100; Percent complete: 52.5%; Average loss: 4.4554\n",
            "Iteration: 2200; Percent complete: 55.0%; Average loss: 4.4109\n",
            "Iteration: 2300; Percent complete: 57.5%; Average loss: 4.4086\n",
            "Iteration: 2400; Percent complete: 60.0%; Average loss: 4.4154\n",
            "Iteration: 2500; Percent complete: 62.5%; Average loss: 4.3941\n",
            "Iteration: 2600; Percent complete: 65.0%; Average loss: 4.3647\n",
            "Iteration: 2700; Percent complete: 67.5%; Average loss: 4.3704\n",
            "Iteration: 2800; Percent complete: 70.0%; Average loss: 4.3264\n",
            "Iteration: 2900; Percent complete: 72.5%; Average loss: 4.3314\n",
            "Iteration: 3000; Percent complete: 75.0%; Average loss: 4.3110\n",
            "Iteration: 3100; Percent complete: 77.5%; Average loss: 4.2970\n",
            "Iteration: 3200; Percent complete: 80.0%; Average loss: 4.3209\n",
            "Iteration: 3300; Percent complete: 82.5%; Average loss: 4.2964\n",
            "Iteration: 3400; Percent complete: 85.0%; Average loss: 4.2675\n",
            "Iteration: 3500; Percent complete: 87.5%; Average loss: 4.2963\n",
            "Iteration: 3600; Percent complete: 90.0%; Average loss: 4.2429\n",
            "Iteration: 3700; Percent complete: 92.5%; Average loss: 4.2847\n",
            "Iteration: 3800; Percent complete: 95.0%; Average loss: 4.2616\n",
            "Iteration: 3900; Percent complete: 97.5%; Average loss: 4.2497\n",
            "Iteration: 4000; Percent complete: 100.0%; Average loss: 4.2507\n"
          ]
        },
        {
          "output_type": "display_data",
          "data": {
            "text/plain": [
              "<IPython.core.display.HTML object>"
            ],
            "text/html": []
          },
          "metadata": {}
        },
        {
          "output_type": "display_data",
          "data": {
            "text/plain": [
              "<IPython.core.display.HTML object>"
            ],
            "text/html": [
              "<br>    <style><br>        .wandb-row {<br>            display: flex;<br>            flex-direction: row;<br>            flex-wrap: wrap;<br>            justify-content: flex-start;<br>            width: 100%;<br>        }<br>        .wandb-col {<br>            display: flex;<br>            flex-direction: column;<br>            flex-basis: 100%;<br>            flex: 1;<br>            padding: 10px;<br>        }<br>    </style><br><div class=\"wandb-row\"><div class=\"wandb-col\"><h3>Run history:</h3><br/><table class=\"wandb\"><tr><td>loss</td><td>█▄▃▃▂▂▂▂▂▂▂▂▂▂▂▂▂▂▁▂▁▁▁▁▁▁▁▁▁▁▁▁▁▁▁▁▁▁▁▁</td></tr></table><br/></div><div class=\"wandb-col\"><h3>Run summary:</h3><br/><table class=\"wandb\"><tr><td>loss</td><td>4.25074</td></tr></table><br/></div></div>"
            ]
          },
          "metadata": {}
        },
        {
          "output_type": "display_data",
          "data": {
            "text/plain": [
              "<IPython.core.display.HTML object>"
            ],
            "text/html": [
              " View run <strong style=\"color:#cdcd00\">absurd-sweep-6</strong> at: <a href='https://wandb.ai/amanupg-columbia-university/chatbot-hyperparameter-sweep/runs/sifr0pnc' target=\"_blank\">https://wandb.ai/amanupg-columbia-university/chatbot-hyperparameter-sweep/runs/sifr0pnc</a><br> View project at: <a href='https://wandb.ai/amanupg-columbia-university/chatbot-hyperparameter-sweep' target=\"_blank\">https://wandb.ai/amanupg-columbia-university/chatbot-hyperparameter-sweep</a><br>Synced 5 W&B file(s), 0 media file(s), 0 artifact file(s) and 0 other file(s)"
            ]
          },
          "metadata": {}
        },
        {
          "output_type": "display_data",
          "data": {
            "text/plain": [
              "<IPython.core.display.HTML object>"
            ],
            "text/html": [
              "Find logs at: <code>./wandb/run-20251002_091300-sifr0pnc/logs</code>"
            ]
          },
          "metadata": {}
        },
        {
          "output_type": "stream",
          "name": "stderr",
          "text": [
            "\u001b[34m\u001b[1mwandb\u001b[0m: Agent Starting Run: k9xan2kv with config:\n",
            "\u001b[34m\u001b[1mwandb\u001b[0m: \tclip: 25\n",
            "\u001b[34m\u001b[1mwandb\u001b[0m: \tdecoder_learning_ratio: 3\n",
            "\u001b[34m\u001b[1mwandb\u001b[0m: \tlearning_rate: 0.001\n",
            "\u001b[34m\u001b[1mwandb\u001b[0m: \toptimizer: sgd\n",
            "\u001b[34m\u001b[1mwandb\u001b[0m: \tteacher_forcing_ratio: 0\n"
          ]
        },
        {
          "output_type": "display_data",
          "data": {
            "text/plain": [
              "<IPython.core.display.HTML object>"
            ],
            "text/html": []
          },
          "metadata": {}
        },
        {
          "output_type": "display_data",
          "data": {
            "text/plain": [
              "<IPython.core.display.HTML object>"
            ],
            "text/html": [
              "Tracking run with wandb version 0.21.4"
            ]
          },
          "metadata": {}
        },
        {
          "output_type": "display_data",
          "data": {
            "text/plain": [
              "<IPython.core.display.HTML object>"
            ],
            "text/html": [
              "Run data is saved locally in <code>/content/wandb/run-20251002_091550-k9xan2kv</code>"
            ]
          },
          "metadata": {}
        },
        {
          "output_type": "display_data",
          "data": {
            "text/plain": [
              "<IPython.core.display.HTML object>"
            ],
            "text/html": [
              "Syncing run <strong><a href='https://wandb.ai/amanupg-columbia-university/chatbot-hyperparameter-sweep/runs/k9xan2kv' target=\"_blank\">polar-sweep-7</a></strong> to <a href='https://wandb.ai/amanupg-columbia-university/chatbot-hyperparameter-sweep' target=\"_blank\">Weights & Biases</a> (<a href='https://wandb.me/developer-guide' target=\"_blank\">docs</a>)<br>Sweep page: <a href='https://wandb.ai/amanupg-columbia-university/chatbot-hyperparameter-sweep/sweeps/7p21fix1' target=\"_blank\">https://wandb.ai/amanupg-columbia-university/chatbot-hyperparameter-sweep/sweeps/7p21fix1</a>"
            ]
          },
          "metadata": {}
        },
        {
          "output_type": "display_data",
          "data": {
            "text/plain": [
              "<IPython.core.display.HTML object>"
            ],
            "text/html": [
              " View project at <a href='https://wandb.ai/amanupg-columbia-university/chatbot-hyperparameter-sweep' target=\"_blank\">https://wandb.ai/amanupg-columbia-university/chatbot-hyperparameter-sweep</a>"
            ]
          },
          "metadata": {}
        },
        {
          "output_type": "display_data",
          "data": {
            "text/plain": [
              "<IPython.core.display.HTML object>"
            ],
            "text/html": [
              " View sweep at <a href='https://wandb.ai/amanupg-columbia-university/chatbot-hyperparameter-sweep/sweeps/7p21fix1' target=\"_blank\">https://wandb.ai/amanupg-columbia-university/chatbot-hyperparameter-sweep/sweeps/7p21fix1</a>"
            ]
          },
          "metadata": {}
        },
        {
          "output_type": "display_data",
          "data": {
            "text/plain": [
              "<IPython.core.display.HTML object>"
            ],
            "text/html": [
              " View run at <a href='https://wandb.ai/amanupg-columbia-university/chatbot-hyperparameter-sweep/runs/k9xan2kv' target=\"_blank\">https://wandb.ai/amanupg-columbia-university/chatbot-hyperparameter-sweep/runs/k9xan2kv</a>"
            ]
          },
          "metadata": {}
        },
        {
          "output_type": "stream",
          "name": "stdout",
          "text": [
            "Using optimizer: sgd\n",
            "Starting Training for one sweep iteration!\n",
            "Initializing ...\n",
            "Training...\n",
            "Iteration: 100; Percent complete: 2.5%; Average loss: 6.9899\n",
            "Iteration: 200; Percent complete: 5.0%; Average loss: 5.7307\n",
            "Iteration: 300; Percent complete: 7.5%; Average loss: 5.3400\n",
            "Iteration: 400; Percent complete: 10.0%; Average loss: 5.1641\n",
            "Iteration: 500; Percent complete: 12.5%; Average loss: 5.0809\n",
            "Iteration: 600; Percent complete: 15.0%; Average loss: 5.0148\n",
            "Iteration: 700; Percent complete: 17.5%; Average loss: 4.9724\n",
            "Iteration: 800; Percent complete: 20.0%; Average loss: 4.9436\n",
            "Iteration: 900; Percent complete: 22.5%; Average loss: 4.9248\n",
            "Iteration: 1000; Percent complete: 25.0%; Average loss: 4.8775\n",
            "Iteration: 1100; Percent complete: 27.5%; Average loss: 4.8652\n",
            "Iteration: 1200; Percent complete: 30.0%; Average loss: 4.8408\n",
            "Iteration: 1300; Percent complete: 32.5%; Average loss: 4.8199\n",
            "Iteration: 1400; Percent complete: 35.0%; Average loss: 4.8065\n",
            "Iteration: 1500; Percent complete: 37.5%; Average loss: 4.8242\n",
            "Iteration: 1600; Percent complete: 40.0%; Average loss: 4.7753\n",
            "Iteration: 1700; Percent complete: 42.5%; Average loss: 4.7830\n",
            "Iteration: 1800; Percent complete: 45.0%; Average loss: 4.7798\n",
            "Iteration: 1900; Percent complete: 47.5%; Average loss: 4.7790\n",
            "Iteration: 2000; Percent complete: 50.0%; Average loss: 4.7701\n",
            "Iteration: 2100; Percent complete: 52.5%; Average loss: 4.7564\n",
            "Iteration: 2200; Percent complete: 55.0%; Average loss: 4.7346\n",
            "Iteration: 2300; Percent complete: 57.5%; Average loss: 4.7415\n",
            "Iteration: 2400; Percent complete: 60.0%; Average loss: 4.7225\n",
            "Iteration: 2500; Percent complete: 62.5%; Average loss: 4.7430\n",
            "Iteration: 2600; Percent complete: 65.0%; Average loss: 4.7255\n",
            "Iteration: 2700; Percent complete: 67.5%; Average loss: 4.7065\n",
            "Iteration: 2800; Percent complete: 70.0%; Average loss: 4.7406\n",
            "Iteration: 2900; Percent complete: 72.5%; Average loss: 4.7113\n",
            "Iteration: 3000; Percent complete: 75.0%; Average loss: 4.7252\n",
            "Iteration: 3100; Percent complete: 77.5%; Average loss: 4.7050\n",
            "Iteration: 3200; Percent complete: 80.0%; Average loss: 4.7281\n",
            "Iteration: 3300; Percent complete: 82.5%; Average loss: 4.7078\n",
            "Iteration: 3400; Percent complete: 85.0%; Average loss: 4.7186\n",
            "Iteration: 3500; Percent complete: 87.5%; Average loss: 4.6931\n",
            "Iteration: 3600; Percent complete: 90.0%; Average loss: 4.6982\n",
            "Iteration: 3700; Percent complete: 92.5%; Average loss: 4.6859\n",
            "Iteration: 3800; Percent complete: 95.0%; Average loss: 4.6866\n",
            "Iteration: 3900; Percent complete: 97.5%; Average loss: 4.6878\n",
            "Iteration: 4000; Percent complete: 100.0%; Average loss: 4.6839\n"
          ]
        },
        {
          "output_type": "display_data",
          "data": {
            "text/plain": [
              "<IPython.core.display.HTML object>"
            ],
            "text/html": []
          },
          "metadata": {}
        },
        {
          "output_type": "display_data",
          "data": {
            "text/plain": [
              "<IPython.core.display.HTML object>"
            ],
            "text/html": [
              "<br>    <style><br>        .wandb-row {<br>            display: flex;<br>            flex-direction: row;<br>            flex-wrap: wrap;<br>            justify-content: flex-start;<br>            width: 100%;<br>        }<br>        .wandb-col {<br>            display: flex;<br>            flex-direction: column;<br>            flex-basis: 100%;<br>            flex: 1;<br>            padding: 10px;<br>        }<br>    </style><br><div class=\"wandb-row\"><div class=\"wandb-col\"><h3>Run history:</h3><br/><table class=\"wandb\"><tr><td>loss</td><td>█▄▃▂▂▂▂▂▂▂▂▁▁▁▁▁▁▁▁▁▁▁▁▁▁▁▁▁▁▁▁▁▁▁▁▁▁▁▁▁</td></tr></table><br/></div><div class=\"wandb-col\"><h3>Run summary:</h3><br/><table class=\"wandb\"><tr><td>loss</td><td>4.68395</td></tr></table><br/></div></div>"
            ]
          },
          "metadata": {}
        },
        {
          "output_type": "display_data",
          "data": {
            "text/plain": [
              "<IPython.core.display.HTML object>"
            ],
            "text/html": [
              " View run <strong style=\"color:#cdcd00\">polar-sweep-7</strong> at: <a href='https://wandb.ai/amanupg-columbia-university/chatbot-hyperparameter-sweep/runs/k9xan2kv' target=\"_blank\">https://wandb.ai/amanupg-columbia-university/chatbot-hyperparameter-sweep/runs/k9xan2kv</a><br> View project at: <a href='https://wandb.ai/amanupg-columbia-university/chatbot-hyperparameter-sweep' target=\"_blank\">https://wandb.ai/amanupg-columbia-university/chatbot-hyperparameter-sweep</a><br>Synced 5 W&B file(s), 0 media file(s), 0 artifact file(s) and 0 other file(s)"
            ]
          },
          "metadata": {}
        },
        {
          "output_type": "display_data",
          "data": {
            "text/plain": [
              "<IPython.core.display.HTML object>"
            ],
            "text/html": [
              "Find logs at: <code>./wandb/run-20251002_091550-k9xan2kv/logs</code>"
            ]
          },
          "metadata": {}
        },
        {
          "output_type": "stream",
          "name": "stderr",
          "text": [
            "\u001b[34m\u001b[1mwandb\u001b[0m: Agent Starting Run: e17u7qlk with config:\n",
            "\u001b[34m\u001b[1mwandb\u001b[0m: \tclip: 25\n",
            "\u001b[34m\u001b[1mwandb\u001b[0m: \tdecoder_learning_ratio: 1\n",
            "\u001b[34m\u001b[1mwandb\u001b[0m: \tlearning_rate: 0.00025\n",
            "\u001b[34m\u001b[1mwandb\u001b[0m: \toptimizer: sgd\n",
            "\u001b[34m\u001b[1mwandb\u001b[0m: \tteacher_forcing_ratio: 1\n"
          ]
        },
        {
          "output_type": "display_data",
          "data": {
            "text/plain": [
              "<IPython.core.display.HTML object>"
            ],
            "text/html": []
          },
          "metadata": {}
        },
        {
          "output_type": "display_data",
          "data": {
            "text/plain": [
              "<IPython.core.display.HTML object>"
            ],
            "text/html": [
              "Tracking run with wandb version 0.21.4"
            ]
          },
          "metadata": {}
        },
        {
          "output_type": "display_data",
          "data": {
            "text/plain": [
              "<IPython.core.display.HTML object>"
            ],
            "text/html": [
              "Run data is saved locally in <code>/content/wandb/run-20251002_091919-e17u7qlk</code>"
            ]
          },
          "metadata": {}
        },
        {
          "output_type": "display_data",
          "data": {
            "text/plain": [
              "<IPython.core.display.HTML object>"
            ],
            "text/html": [
              "Syncing run <strong><a href='https://wandb.ai/amanupg-columbia-university/chatbot-hyperparameter-sweep/runs/e17u7qlk' target=\"_blank\">peach-sweep-8</a></strong> to <a href='https://wandb.ai/amanupg-columbia-university/chatbot-hyperparameter-sweep' target=\"_blank\">Weights & Biases</a> (<a href='https://wandb.me/developer-guide' target=\"_blank\">docs</a>)<br>Sweep page: <a href='https://wandb.ai/amanupg-columbia-university/chatbot-hyperparameter-sweep/sweeps/7p21fix1' target=\"_blank\">https://wandb.ai/amanupg-columbia-university/chatbot-hyperparameter-sweep/sweeps/7p21fix1</a>"
            ]
          },
          "metadata": {}
        },
        {
          "output_type": "display_data",
          "data": {
            "text/plain": [
              "<IPython.core.display.HTML object>"
            ],
            "text/html": [
              " View project at <a href='https://wandb.ai/amanupg-columbia-university/chatbot-hyperparameter-sweep' target=\"_blank\">https://wandb.ai/amanupg-columbia-university/chatbot-hyperparameter-sweep</a>"
            ]
          },
          "metadata": {}
        },
        {
          "output_type": "display_data",
          "data": {
            "text/plain": [
              "<IPython.core.display.HTML object>"
            ],
            "text/html": [
              " View sweep at <a href='https://wandb.ai/amanupg-columbia-university/chatbot-hyperparameter-sweep/sweeps/7p21fix1' target=\"_blank\">https://wandb.ai/amanupg-columbia-university/chatbot-hyperparameter-sweep/sweeps/7p21fix1</a>"
            ]
          },
          "metadata": {}
        },
        {
          "output_type": "display_data",
          "data": {
            "text/plain": [
              "<IPython.core.display.HTML object>"
            ],
            "text/html": [
              " View run at <a href='https://wandb.ai/amanupg-columbia-university/chatbot-hyperparameter-sweep/runs/e17u7qlk' target=\"_blank\">https://wandb.ai/amanupg-columbia-university/chatbot-hyperparameter-sweep/runs/e17u7qlk</a>"
            ]
          },
          "metadata": {}
        },
        {
          "output_type": "stream",
          "name": "stdout",
          "text": [
            "Using optimizer: sgd\n",
            "Starting Training for one sweep iteration!\n",
            "Initializing ...\n",
            "Training...\n",
            "Iteration: 100; Percent complete: 2.5%; Average loss: 8.9143\n",
            "Iteration: 200; Percent complete: 5.0%; Average loss: 8.7817\n",
            "Iteration: 300; Percent complete: 7.5%; Average loss: 8.2780\n",
            "Iteration: 400; Percent complete: 10.0%; Average loss: 7.2648\n",
            "Iteration: 500; Percent complete: 12.5%; Average loss: 6.7528\n",
            "Iteration: 600; Percent complete: 15.0%; Average loss: 6.5643\n",
            "Iteration: 700; Percent complete: 17.5%; Average loss: 6.3603\n",
            "Iteration: 800; Percent complete: 20.0%; Average loss: 6.2791\n",
            "Iteration: 900; Percent complete: 22.5%; Average loss: 6.1406\n",
            "Iteration: 1000; Percent complete: 25.0%; Average loss: 6.0628\n",
            "Iteration: 1100; Percent complete: 27.5%; Average loss: 5.9522\n",
            "Iteration: 1200; Percent complete: 30.0%; Average loss: 5.8644\n",
            "Iteration: 1300; Percent complete: 32.5%; Average loss: 5.7774\n",
            "Iteration: 1400; Percent complete: 35.0%; Average loss: 5.6873\n",
            "Iteration: 1500; Percent complete: 37.5%; Average loss: 5.6245\n",
            "Iteration: 1600; Percent complete: 40.0%; Average loss: 5.5776\n",
            "Iteration: 1700; Percent complete: 42.5%; Average loss: 5.5171\n",
            "Iteration: 1800; Percent complete: 45.0%; Average loss: 5.4703\n",
            "Iteration: 1900; Percent complete: 47.5%; Average loss: 5.4314\n",
            "Iteration: 2000; Percent complete: 50.0%; Average loss: 5.3873\n",
            "Iteration: 2100; Percent complete: 52.5%; Average loss: 5.3358\n",
            "Iteration: 2200; Percent complete: 55.0%; Average loss: 5.3014\n",
            "Iteration: 2300; Percent complete: 57.5%; Average loss: 5.2848\n",
            "Iteration: 2400; Percent complete: 60.0%; Average loss: 5.2217\n",
            "Iteration: 2500; Percent complete: 62.5%; Average loss: 5.2000\n",
            "Iteration: 2600; Percent complete: 65.0%; Average loss: 5.1987\n",
            "Iteration: 2700; Percent complete: 67.5%; Average loss: 5.1575\n",
            "Iteration: 2800; Percent complete: 70.0%; Average loss: 5.1212\n",
            "Iteration: 2900; Percent complete: 72.5%; Average loss: 5.0920\n",
            "Iteration: 3000; Percent complete: 75.0%; Average loss: 5.0784\n",
            "Iteration: 3100; Percent complete: 77.5%; Average loss: 5.0521\n",
            "Iteration: 3200; Percent complete: 80.0%; Average loss: 5.0586\n",
            "Iteration: 3300; Percent complete: 82.5%; Average loss: 5.0222\n",
            "Iteration: 3400; Percent complete: 85.0%; Average loss: 5.0014\n",
            "Iteration: 3500; Percent complete: 87.5%; Average loss: 4.9848\n",
            "Iteration: 3600; Percent complete: 90.0%; Average loss: 4.9790\n",
            "Iteration: 3700; Percent complete: 92.5%; Average loss: 4.9528\n",
            "Iteration: 3800; Percent complete: 95.0%; Average loss: 4.9195\n",
            "Iteration: 3900; Percent complete: 97.5%; Average loss: 4.9164\n",
            "Iteration: 4000; Percent complete: 100.0%; Average loss: 4.9218\n"
          ]
        },
        {
          "output_type": "display_data",
          "data": {
            "text/plain": [
              "<IPython.core.display.HTML object>"
            ],
            "text/html": []
          },
          "metadata": {}
        },
        {
          "output_type": "display_data",
          "data": {
            "text/plain": [
              "<IPython.core.display.HTML object>"
            ],
            "text/html": [
              "<br>    <style><br>        .wandb-row {<br>            display: flex;<br>            flex-direction: row;<br>            flex-wrap: wrap;<br>            justify-content: flex-start;<br>            width: 100%;<br>        }<br>        .wandb-col {<br>            display: flex;<br>            flex-direction: column;<br>            flex-basis: 100%;<br>            flex: 1;<br>            padding: 10px;<br>        }<br>    </style><br><div class=\"wandb-row\"><div class=\"wandb-col\"><h3>Run history:</h3><br/><table class=\"wandb\"><tr><td>loss</td><td>██▇▅▄▄▄▃▃▃▃▃▃▂▂▂▂▂▂▂▂▂▂▂▁▁▁▁▁▁▁▁▁▁▁▁▁▁▁▁</td></tr></table><br/></div><div class=\"wandb-col\"><h3>Run summary:</h3><br/><table class=\"wandb\"><tr><td>loss</td><td>4.9218</td></tr></table><br/></div></div>"
            ]
          },
          "metadata": {}
        },
        {
          "output_type": "display_data",
          "data": {
            "text/plain": [
              "<IPython.core.display.HTML object>"
            ],
            "text/html": [
              " View run <strong style=\"color:#cdcd00\">peach-sweep-8</strong> at: <a href='https://wandb.ai/amanupg-columbia-university/chatbot-hyperparameter-sweep/runs/e17u7qlk' target=\"_blank\">https://wandb.ai/amanupg-columbia-university/chatbot-hyperparameter-sweep/runs/e17u7qlk</a><br> View project at: <a href='https://wandb.ai/amanupg-columbia-university/chatbot-hyperparameter-sweep' target=\"_blank\">https://wandb.ai/amanupg-columbia-university/chatbot-hyperparameter-sweep</a><br>Synced 5 W&B file(s), 0 media file(s), 0 artifact file(s) and 0 other file(s)"
            ]
          },
          "metadata": {}
        },
        {
          "output_type": "display_data",
          "data": {
            "text/plain": [
              "<IPython.core.display.HTML object>"
            ],
            "text/html": [
              "Find logs at: <code>./wandb/run-20251002_091919-e17u7qlk/logs</code>"
            ]
          },
          "metadata": {}
        },
        {
          "output_type": "stream",
          "name": "stderr",
          "text": [
            "\u001b[34m\u001b[1mwandb\u001b[0m: Agent Starting Run: crtc3jve with config:\n",
            "\u001b[34m\u001b[1mwandb\u001b[0m: \tclip: 25\n",
            "\u001b[34m\u001b[1mwandb\u001b[0m: \tdecoder_learning_ratio: 10\n",
            "\u001b[34m\u001b[1mwandb\u001b[0m: \tlearning_rate: 0.001\n",
            "\u001b[34m\u001b[1mwandb\u001b[0m: \toptimizer: adam\n",
            "\u001b[34m\u001b[1mwandb\u001b[0m: \tteacher_forcing_ratio: 1\n"
          ]
        },
        {
          "output_type": "display_data",
          "data": {
            "text/plain": [
              "<IPython.core.display.HTML object>"
            ],
            "text/html": []
          },
          "metadata": {}
        },
        {
          "output_type": "display_data",
          "data": {
            "text/plain": [
              "<IPython.core.display.HTML object>"
            ],
            "text/html": [
              "Tracking run with wandb version 0.21.4"
            ]
          },
          "metadata": {}
        },
        {
          "output_type": "display_data",
          "data": {
            "text/plain": [
              "<IPython.core.display.HTML object>"
            ],
            "text/html": [
              "Run data is saved locally in <code>/content/wandb/run-20251002_092207-crtc3jve</code>"
            ]
          },
          "metadata": {}
        },
        {
          "output_type": "display_data",
          "data": {
            "text/plain": [
              "<IPython.core.display.HTML object>"
            ],
            "text/html": [
              "Syncing run <strong><a href='https://wandb.ai/amanupg-columbia-university/chatbot-hyperparameter-sweep/runs/crtc3jve' target=\"_blank\">icy-sweep-9</a></strong> to <a href='https://wandb.ai/amanupg-columbia-university/chatbot-hyperparameter-sweep' target=\"_blank\">Weights & Biases</a> (<a href='https://wandb.me/developer-guide' target=\"_blank\">docs</a>)<br>Sweep page: <a href='https://wandb.ai/amanupg-columbia-university/chatbot-hyperparameter-sweep/sweeps/7p21fix1' target=\"_blank\">https://wandb.ai/amanupg-columbia-university/chatbot-hyperparameter-sweep/sweeps/7p21fix1</a>"
            ]
          },
          "metadata": {}
        },
        {
          "output_type": "display_data",
          "data": {
            "text/plain": [
              "<IPython.core.display.HTML object>"
            ],
            "text/html": [
              " View project at <a href='https://wandb.ai/amanupg-columbia-university/chatbot-hyperparameter-sweep' target=\"_blank\">https://wandb.ai/amanupg-columbia-university/chatbot-hyperparameter-sweep</a>"
            ]
          },
          "metadata": {}
        },
        {
          "output_type": "display_data",
          "data": {
            "text/plain": [
              "<IPython.core.display.HTML object>"
            ],
            "text/html": [
              " View sweep at <a href='https://wandb.ai/amanupg-columbia-university/chatbot-hyperparameter-sweep/sweeps/7p21fix1' target=\"_blank\">https://wandb.ai/amanupg-columbia-university/chatbot-hyperparameter-sweep/sweeps/7p21fix1</a>"
            ]
          },
          "metadata": {}
        },
        {
          "output_type": "display_data",
          "data": {
            "text/plain": [
              "<IPython.core.display.HTML object>"
            ],
            "text/html": [
              " View run at <a href='https://wandb.ai/amanupg-columbia-university/chatbot-hyperparameter-sweep/runs/crtc3jve' target=\"_blank\">https://wandb.ai/amanupg-columbia-university/chatbot-hyperparameter-sweep/runs/crtc3jve</a>"
            ]
          },
          "metadata": {}
        },
        {
          "output_type": "stream",
          "name": "stdout",
          "text": [
            "Using optimizer: adam\n",
            "Starting Training for one sweep iteration!\n",
            "Initializing ...\n",
            "Training...\n",
            "Iteration: 100; Percent complete: 2.5%; Average loss: 6.0997\n",
            "Iteration: 200; Percent complete: 5.0%; Average loss: 5.8757\n",
            "Iteration: 300; Percent complete: 7.5%; Average loss: 5.9324\n",
            "Iteration: 400; Percent complete: 10.0%; Average loss: 6.1197\n",
            "Iteration: 500; Percent complete: 12.5%; Average loss: 6.2280\n",
            "Iteration: 600; Percent complete: 15.0%; Average loss: 6.4294\n",
            "Iteration: 700; Percent complete: 17.5%; Average loss: nan\n",
            "Iteration: 800; Percent complete: 20.0%; Average loss: nan\n",
            "Iteration: 900; Percent complete: 22.5%; Average loss: nan\n",
            "Iteration: 1000; Percent complete: 25.0%; Average loss: nan\n",
            "Iteration: 1100; Percent complete: 27.5%; Average loss: nan\n",
            "Iteration: 1200; Percent complete: 30.0%; Average loss: nan\n",
            "Iteration: 1300; Percent complete: 32.5%; Average loss: nan\n",
            "Iteration: 1400; Percent complete: 35.0%; Average loss: nan\n",
            "Iteration: 1500; Percent complete: 37.5%; Average loss: nan\n",
            "Iteration: 1600; Percent complete: 40.0%; Average loss: nan\n",
            "Iteration: 1700; Percent complete: 42.5%; Average loss: nan\n",
            "Iteration: 1800; Percent complete: 45.0%; Average loss: nan\n",
            "Iteration: 1900; Percent complete: 47.5%; Average loss: nan\n",
            "Iteration: 2000; Percent complete: 50.0%; Average loss: nan\n",
            "Iteration: 2100; Percent complete: 52.5%; Average loss: nan\n",
            "Iteration: 2200; Percent complete: 55.0%; Average loss: nan\n",
            "Iteration: 2300; Percent complete: 57.5%; Average loss: nan\n",
            "Iteration: 2400; Percent complete: 60.0%; Average loss: nan\n",
            "Iteration: 2500; Percent complete: 62.5%; Average loss: nan\n",
            "Iteration: 2600; Percent complete: 65.0%; Average loss: nan\n",
            "Iteration: 2700; Percent complete: 67.5%; Average loss: nan\n",
            "Iteration: 2800; Percent complete: 70.0%; Average loss: nan\n",
            "Iteration: 2900; Percent complete: 72.5%; Average loss: nan\n",
            "Iteration: 3000; Percent complete: 75.0%; Average loss: nan\n",
            "Iteration: 3100; Percent complete: 77.5%; Average loss: nan\n",
            "Iteration: 3200; Percent complete: 80.0%; Average loss: nan\n",
            "Iteration: 3300; Percent complete: 82.5%; Average loss: nan\n",
            "Iteration: 3400; Percent complete: 85.0%; Average loss: nan\n",
            "Iteration: 3500; Percent complete: 87.5%; Average loss: nan\n",
            "Iteration: 3600; Percent complete: 90.0%; Average loss: nan\n",
            "Iteration: 3700; Percent complete: 92.5%; Average loss: nan\n",
            "Iteration: 3800; Percent complete: 95.0%; Average loss: nan\n",
            "Iteration: 3900; Percent complete: 97.5%; Average loss: nan\n",
            "Iteration: 4000; Percent complete: 100.0%; Average loss: nan\n"
          ]
        },
        {
          "output_type": "display_data",
          "data": {
            "text/plain": [
              "<IPython.core.display.HTML object>"
            ],
            "text/html": []
          },
          "metadata": {}
        },
        {
          "output_type": "display_data",
          "data": {
            "text/plain": [
              "<IPython.core.display.HTML object>"
            ],
            "text/html": [
              "<br>    <style><br>        .wandb-row {<br>            display: flex;<br>            flex-direction: row;<br>            flex-wrap: wrap;<br>            justify-content: flex-start;<br>            width: 100%;<br>        }<br>        .wandb-col {<br>            display: flex;<br>            flex-direction: column;<br>            flex-basis: 100%;<br>            flex: 1;<br>            padding: 10px;<br>        }<br>    </style><br><div class=\"wandb-row\"><div class=\"wandb-col\"><h3>Run history:</h3><br/><table class=\"wandb\"><tr><td>loss</td><td>▄▁▂▄▅█                                  </td></tr></table><br/></div><div class=\"wandb-col\"><h3>Run summary:</h3><br/><table class=\"wandb\"><tr><td>loss</td><td>nan</td></tr></table><br/></div></div>"
            ]
          },
          "metadata": {}
        },
        {
          "output_type": "display_data",
          "data": {
            "text/plain": [
              "<IPython.core.display.HTML object>"
            ],
            "text/html": [
              " View run <strong style=\"color:#cdcd00\">icy-sweep-9</strong> at: <a href='https://wandb.ai/amanupg-columbia-university/chatbot-hyperparameter-sweep/runs/crtc3jve' target=\"_blank\">https://wandb.ai/amanupg-columbia-university/chatbot-hyperparameter-sweep/runs/crtc3jve</a><br> View project at: <a href='https://wandb.ai/amanupg-columbia-university/chatbot-hyperparameter-sweep' target=\"_blank\">https://wandb.ai/amanupg-columbia-university/chatbot-hyperparameter-sweep</a><br>Synced 5 W&B file(s), 0 media file(s), 0 artifact file(s) and 0 other file(s)"
            ]
          },
          "metadata": {}
        },
        {
          "output_type": "display_data",
          "data": {
            "text/plain": [
              "<IPython.core.display.HTML object>"
            ],
            "text/html": [
              "Find logs at: <code>./wandb/run-20251002_092207-crtc3jve/logs</code>"
            ]
          },
          "metadata": {}
        },
        {
          "output_type": "stream",
          "name": "stderr",
          "text": [
            "\u001b[34m\u001b[1mwandb\u001b[0m: Agent Starting Run: 3ygh11if with config:\n",
            "\u001b[34m\u001b[1mwandb\u001b[0m: \tclip: 0\n",
            "\u001b[34m\u001b[1mwandb\u001b[0m: \tdecoder_learning_ratio: 3\n",
            "\u001b[34m\u001b[1mwandb\u001b[0m: \tlearning_rate: 0.00025\n",
            "\u001b[34m\u001b[1mwandb\u001b[0m: \toptimizer: adam\n",
            "\u001b[34m\u001b[1mwandb\u001b[0m: \tteacher_forcing_ratio: 0.5\n"
          ]
        },
        {
          "output_type": "display_data",
          "data": {
            "text/plain": [
              "<IPython.core.display.HTML object>"
            ],
            "text/html": []
          },
          "metadata": {}
        },
        {
          "output_type": "display_data",
          "data": {
            "text/plain": [
              "<IPython.core.display.HTML object>"
            ],
            "text/html": [
              "Tracking run with wandb version 0.21.4"
            ]
          },
          "metadata": {}
        },
        {
          "output_type": "display_data",
          "data": {
            "text/plain": [
              "<IPython.core.display.HTML object>"
            ],
            "text/html": [
              "Run data is saved locally in <code>/content/wandb/run-20251002_092521-3ygh11if</code>"
            ]
          },
          "metadata": {}
        },
        {
          "output_type": "display_data",
          "data": {
            "text/plain": [
              "<IPython.core.display.HTML object>"
            ],
            "text/html": [
              "Syncing run <strong><a href='https://wandb.ai/amanupg-columbia-university/chatbot-hyperparameter-sweep/runs/3ygh11if' target=\"_blank\">dutiful-sweep-10</a></strong> to <a href='https://wandb.ai/amanupg-columbia-university/chatbot-hyperparameter-sweep' target=\"_blank\">Weights & Biases</a> (<a href='https://wandb.me/developer-guide' target=\"_blank\">docs</a>)<br>Sweep page: <a href='https://wandb.ai/amanupg-columbia-university/chatbot-hyperparameter-sweep/sweeps/7p21fix1' target=\"_blank\">https://wandb.ai/amanupg-columbia-university/chatbot-hyperparameter-sweep/sweeps/7p21fix1</a>"
            ]
          },
          "metadata": {}
        },
        {
          "output_type": "display_data",
          "data": {
            "text/plain": [
              "<IPython.core.display.HTML object>"
            ],
            "text/html": [
              " View project at <a href='https://wandb.ai/amanupg-columbia-university/chatbot-hyperparameter-sweep' target=\"_blank\">https://wandb.ai/amanupg-columbia-university/chatbot-hyperparameter-sweep</a>"
            ]
          },
          "metadata": {}
        },
        {
          "output_type": "display_data",
          "data": {
            "text/plain": [
              "<IPython.core.display.HTML object>"
            ],
            "text/html": [
              " View sweep at <a href='https://wandb.ai/amanupg-columbia-university/chatbot-hyperparameter-sweep/sweeps/7p21fix1' target=\"_blank\">https://wandb.ai/amanupg-columbia-university/chatbot-hyperparameter-sweep/sweeps/7p21fix1</a>"
            ]
          },
          "metadata": {}
        },
        {
          "output_type": "display_data",
          "data": {
            "text/plain": [
              "<IPython.core.display.HTML object>"
            ],
            "text/html": [
              " View run at <a href='https://wandb.ai/amanupg-columbia-university/chatbot-hyperparameter-sweep/runs/3ygh11if' target=\"_blank\">https://wandb.ai/amanupg-columbia-university/chatbot-hyperparameter-sweep/runs/3ygh11if</a>"
            ]
          },
          "metadata": {}
        },
        {
          "output_type": "stream",
          "name": "stdout",
          "text": [
            "Using optimizer: adam\n",
            "Starting Training for one sweep iteration!\n",
            "Initializing ...\n",
            "Training...\n",
            "Iteration: 100; Percent complete: 2.5%; Average loss: 8.9766\n",
            "Iteration: 200; Percent complete: 5.0%; Average loss: 8.9764\n",
            "Iteration: 300; Percent complete: 7.5%; Average loss: 8.9763\n",
            "Iteration: 400; Percent complete: 10.0%; Average loss: 8.9764\n",
            "Iteration: 500; Percent complete: 12.5%; Average loss: 8.9767\n",
            "Iteration: 600; Percent complete: 15.0%; Average loss: 8.9768\n",
            "Iteration: 700; Percent complete: 17.5%; Average loss: 8.9758\n",
            "Iteration: 800; Percent complete: 20.0%; Average loss: 8.9758\n",
            "Iteration: 900; Percent complete: 22.5%; Average loss: 8.9769\n",
            "Iteration: 1000; Percent complete: 25.0%; Average loss: 8.9761\n",
            "Iteration: 1100; Percent complete: 27.5%; Average loss: 8.9760\n",
            "Iteration: 1200; Percent complete: 30.0%; Average loss: 8.9763\n",
            "Iteration: 1300; Percent complete: 32.5%; Average loss: 8.9769\n",
            "Iteration: 1400; Percent complete: 35.0%; Average loss: 8.9766\n",
            "Iteration: 1500; Percent complete: 37.5%; Average loss: 8.9765\n",
            "Iteration: 1600; Percent complete: 40.0%; Average loss: 8.9766\n",
            "Iteration: 1700; Percent complete: 42.5%; Average loss: 8.9767\n",
            "Iteration: 1800; Percent complete: 45.0%; Average loss: 8.9763\n",
            "Iteration: 1900; Percent complete: 47.5%; Average loss: 8.9760\n",
            "Iteration: 2000; Percent complete: 50.0%; Average loss: 8.9766\n",
            "Iteration: 2100; Percent complete: 52.5%; Average loss: 8.9759\n",
            "Iteration: 2200; Percent complete: 55.0%; Average loss: 8.9769\n",
            "Iteration: 2300; Percent complete: 57.5%; Average loss: 8.9760\n",
            "Iteration: 2400; Percent complete: 60.0%; Average loss: 8.9764\n",
            "Iteration: 2500; Percent complete: 62.5%; Average loss: 8.9765\n",
            "Iteration: 2600; Percent complete: 65.0%; Average loss: 8.9762\n",
            "Iteration: 2700; Percent complete: 67.5%; Average loss: 8.9759\n",
            "Iteration: 2800; Percent complete: 70.0%; Average loss: 8.9765\n",
            "Iteration: 2900; Percent complete: 72.5%; Average loss: 8.9768\n",
            "Iteration: 3000; Percent complete: 75.0%; Average loss: 8.9765\n",
            "Iteration: 3100; Percent complete: 77.5%; Average loss: 8.9760\n",
            "Iteration: 3200; Percent complete: 80.0%; Average loss: 8.9765\n",
            "Iteration: 3300; Percent complete: 82.5%; Average loss: 8.9762\n",
            "Iteration: 3400; Percent complete: 85.0%; Average loss: 8.9763\n",
            "Iteration: 3500; Percent complete: 87.5%; Average loss: 8.9769\n",
            "Iteration: 3600; Percent complete: 90.0%; Average loss: 8.9767\n",
            "Iteration: 3700; Percent complete: 92.5%; Average loss: 8.9764\n",
            "Iteration: 3800; Percent complete: 95.0%; Average loss: 8.9765\n",
            "Iteration: 3900; Percent complete: 97.5%; Average loss: 8.9764\n",
            "Iteration: 4000; Percent complete: 100.0%; Average loss: 8.9769\n"
          ]
        },
        {
          "output_type": "display_data",
          "data": {
            "text/plain": [
              "<IPython.core.display.HTML object>"
            ],
            "text/html": []
          },
          "metadata": {}
        },
        {
          "output_type": "display_data",
          "data": {
            "text/plain": [
              "<IPython.core.display.HTML object>"
            ],
            "text/html": [
              "<br>    <style><br>        .wandb-row {<br>            display: flex;<br>            flex-direction: row;<br>            flex-wrap: wrap;<br>            justify-content: flex-start;<br>            width: 100%;<br>        }<br>        .wandb-col {<br>            display: flex;<br>            flex-direction: column;<br>            flex-basis: 100%;<br>            flex: 1;<br>            padding: 10px;<br>        }<br>    </style><br><div class=\"wandb-row\"><div class=\"wandb-col\"><h3>Run history:</h3><br/><table class=\"wandb\"><tr><td>loss</td><td>▆▅▄▅▇▇▁▁█▃▂▄█▆▅▆▆▄▂▆▂█▂▅▅▄▁▅▇▅▂▅▄▄█▆▄▅▄█</td></tr></table><br/></div><div class=\"wandb-col\"><h3>Run summary:</h3><br/><table class=\"wandb\"><tr><td>loss</td><td>8.97691</td></tr></table><br/></div></div>"
            ]
          },
          "metadata": {}
        },
        {
          "output_type": "display_data",
          "data": {
            "text/plain": [
              "<IPython.core.display.HTML object>"
            ],
            "text/html": [
              " View run <strong style=\"color:#cdcd00\">dutiful-sweep-10</strong> at: <a href='https://wandb.ai/amanupg-columbia-university/chatbot-hyperparameter-sweep/runs/3ygh11if' target=\"_blank\">https://wandb.ai/amanupg-columbia-university/chatbot-hyperparameter-sweep/runs/3ygh11if</a><br> View project at: <a href='https://wandb.ai/amanupg-columbia-university/chatbot-hyperparameter-sweep' target=\"_blank\">https://wandb.ai/amanupg-columbia-university/chatbot-hyperparameter-sweep</a><br>Synced 5 W&B file(s), 0 media file(s), 0 artifact file(s) and 0 other file(s)"
            ]
          },
          "metadata": {}
        },
        {
          "output_type": "display_data",
          "data": {
            "text/plain": [
              "<IPython.core.display.HTML object>"
            ],
            "text/html": [
              "Find logs at: <code>./wandb/run-20251002_092521-3ygh11if/logs</code>"
            ]
          },
          "metadata": {}
        }
      ]
    },
    {
      "cell_type": "markdown",
      "source": [
        "#Problem 5.5"
      ],
      "metadata": {
        "id": "RZjzwIdQZ8DI"
      }
    },
    {
      "cell_type": "markdown",
      "source": [
        "Best Hyperparameter Configuration:\n",
        "\n",
        "The hyperparameter sweep identified the following configuration as optimal, achieving the lowest final loss of 4.2507:\n",
        "\n",
        "clip: 50\n",
        "decoder_learning_ratio: 3\n",
        "learning_rate: 0.001\n",
        "optimizer: sgd\n",
        "teacher_forcing_ratio: 1\n",
        "\n",
        "Hyperparameter Importance Analysis:\n",
        "\n",
        "This analysis explains which hyperparameters most significantly affect model convergence, as guided by the feature importance tool in Weights & Biases.\n",
        "\n",
        "Based on the ranking, the most influential hyperparameter was clip. This suggests that managing the magnitude of gradients to prevent them from exploding was the most critical factor for achieving stable training and a low final loss in this experiment. The optimizer was the next most important factor, which is expected as the choice between Adam and SGD fundamentally alters the training dynamics.\n",
        "\n",
        "Following these, the decoder_learning_ratio and learning_rate showed moderate importance in fine-tuning the model's performance. Interestingly, the teacher_forcing_ratio was identified as the least influential hyperparameter. This implies that the model's performance was surprisingly robust and not highly sensitive to whether it was trained using its own predictions or the ground-truth labels as input to the decoder."
      ],
      "metadata": {
        "id": "HIkXY9-mZ_C5"
      }
    },
    {
      "cell_type": "markdown",
      "metadata": {
        "id": "379RRYczjjtd"
      },
      "source": [
        "Conclusion\n",
        "==========\n",
        "\n",
        "That's all for this one, folks. Congratulations, you now know the\n",
        "fundamentals to building a generative chatbot model! If you're\n",
        "interested, you can try tailoring the chatbot's behavior by tweaking the\n",
        "model and training parameters and customizing the data that you train\n",
        "the model on.\n",
        "\n",
        "Check out the other tutorials for more cool deep learning applications\n",
        "in PyTorch!\n"
      ]
    }
  ],
  "metadata": {
    "kernelspec": {
      "display_name": "Python 3",
      "name": "python3"
    },
    "language_info": {
      "codemirror_mode": {
        "name": "ipython",
        "version": 3
      },
      "file_extension": ".py",
      "mimetype": "text/x-python",
      "name": "python",
      "nbconvert_exporter": "python",
      "pygments_lexer": "ipython3",
      "version": "3.10.12"
    },
    "colab": {
      "provenance": [],
      "gpuType": "T4"
    },
    "accelerator": "GPU"
  },
  "nbformat": 4,
  "nbformat_minor": 0
}